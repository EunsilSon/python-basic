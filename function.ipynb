{
 "cells": [
  {
   "cell_type": "markdown",
   "id": "89be55af",
   "metadata": {},
   "source": [
    "# 함수\n",
    "- 함수\n",
    "- 반환문\n",
    "- 지역변수, 전역변수\n",
    "- 람다"
   ]
  },
  {
   "cell_type": "markdown",
   "id": "ade87053",
   "metadata": {},
   "source": [
    "## 1. 함수"
   ]
  },
  {
   "cell_type": "code",
   "execution_count": 3,
   "id": "a9c8300a",
   "metadata": {},
   "outputs": [
    {
     "name": "stdout",
     "output_type": "stream",
     "text": [
      "3\n",
      "4\n",
      "62\n",
      "27\n",
      "83\n",
      "956\n",
      "26\n",
      "58\n",
      "3\n",
      "78\n",
      "168\n",
      "64\n",
      "78\n"
     ]
    }
   ],
   "source": [
    "list = [3, 4, 62, 27, 83, 956, 26, 58, 3, 78, 168, 64, 78]\n",
    "print_list(list)\n",
    "\n",
    "def print_list(list): # 매개 변수가 있는 함수\n",
    "    for i in list:\n",
    "        print(i)"
   ]
  },
  {
   "cell_type": "code",
   "execution_count": 9,
   "id": "41dea94b",
   "metadata": {},
   "outputs": [
    {
     "name": "stdout",
     "output_type": "stream",
     "text": [
      "I am a boy\n",
      "You are a girl\n"
     ]
    }
   ],
   "source": [
    "def boy(): # 매개 변수가 없는 함수\n",
    "    print('I am a boy')\n",
    "    print('You are a girl')\n",
    "\n",
    "boy()"
   ]
  },
  {
   "cell_type": "code",
   "execution_count": 12,
   "id": "ab4f01a6",
   "metadata": {},
   "outputs": [
    {
     "name": "stdout",
     "output_type": "stream",
     "text": [
      "a < b\n"
     ]
    }
   ],
   "source": [
    "def check(a, b):\n",
    "    if a > b:\n",
    "        print('a > b')\n",
    "    elif a < b:\n",
    "        print('a < b')\n",
    "    else:\n",
    "        print('a == b')\n",
    "\n",
    "check(10, 20)"
   ]
  },
  {
   "cell_type": "markdown",
   "id": "24ba5195",
   "metadata": {},
   "source": [
    "## 2. 반환문"
   ]
  },
  {
   "cell_type": "code",
   "execution_count": 13,
   "id": "930dbde9",
   "metadata": {},
   "outputs": [
    {
     "data": {
      "text/plain": [
       "30"
      ]
     },
     "execution_count": 13,
     "metadata": {},
     "output_type": "execute_result"
    }
   ],
   "source": [
    "def plus1(a, b):\n",
    "    result = a + b\n",
    "    return result\n",
    "\n",
    "plus(10, 20)"
   ]
  },
  {
   "cell_type": "markdown",
   "id": "edb105c4",
   "metadata": {},
   "source": [
    "#### 반환 값이 없으면 ```None```을 출력한다"
   ]
  },
  {
   "cell_type": "code",
   "execution_count": 17,
   "id": "3372c550",
   "metadata": {},
   "outputs": [
    {
     "name": "stdout",
     "output_type": "stream",
     "text": [
      "5\n",
      "None\n"
     ]
    }
   ],
   "source": [
    "def plus2(a, b):\n",
    "    result = a + b\n",
    "    print(result)\n",
    "\n",
    "num = plus2(2, 3)\n",
    "print(num)"
   ]
  },
  {
   "cell_type": "markdown",
   "id": "e3fc870a",
   "metadata": {},
   "source": [
    "### 연습 문제\n",
    "태어난 해를 네 자리 숫자로 입력하면 한국 나이를 반환하는 함수 korean_age()를 작성하세요."
   ]
  },
  {
   "cell_type": "code",
   "execution_count": 28,
   "id": "6b34d3b6",
   "metadata": {},
   "outputs": [
    {
     "data": {
      "text/plain": [
       "23"
      ]
     },
     "execution_count": 28,
     "metadata": {},
     "output_type": "execute_result"
    }
   ],
   "source": [
    "from datetime import datetime\n",
    "today = datetime.today()\n",
    "today.year\n",
    "\n",
    "def korean_age(birth_year):\n",
    "    age = (today.year - 1900) - (birth_year - 1900) + 1\n",
    "    return age\n",
    "\n",
    "korean_age(2000)"
   ]
  },
  {
   "cell_type": "markdown",
   "id": "b0954b12",
   "metadata": {},
   "source": [
    "## 3. 지역변수, 전역변수"
   ]
  },
  {
   "cell_type": "code",
   "execution_count": 37,
   "id": "2d0a8ed1",
   "metadata": {},
   "outputs": [
    {
     "name": "stdout",
     "output_type": "stream",
     "text": [
      "10\n"
     ]
    },
    {
     "ename": "NameError",
     "evalue": "name 'local_num' is not defined",
     "output_type": "error",
     "traceback": [
      "\u001b[1;31m---------------------------------------------------------------------------\u001b[0m",
      "\u001b[1;31mNameError\u001b[0m                                 Traceback (most recent call last)",
      "Input \u001b[1;32mIn [37]\u001b[0m, in \u001b[0;36m<cell line: 8>\u001b[1;34m()\u001b[0m\n\u001b[0;32m      5\u001b[0m     local_num \u001b[38;5;241m=\u001b[39m \u001b[38;5;241m20\u001b[39m\n\u001b[0;32m      6\u001b[0m     \u001b[38;5;28mprint\u001b[39m(local_num)\n\u001b[1;32m----> 8\u001b[0m \u001b[38;5;28mprint\u001b[39m(\u001b[43mlocal_num\u001b[49m)\n",
      "\u001b[1;31mNameError\u001b[0m: name 'local_num' is not defined"
     ]
    }
   ],
   "source": [
    "global_num = 10\n",
    "print(global_num)\n",
    "\n",
    "def get_num():\n",
    "    local_num = 20\n",
    "    print(local_num)\n",
    "\n",
    "print(local_num) # 지역변수는 함수 내부에서만 사용 가능"
   ]
  },
  {
   "cell_type": "markdown",
   "id": "278ad8fc",
   "metadata": {},
   "source": [
    "### 함수 안에서 전역변수 만들기 ```global```"
   ]
  },
  {
   "cell_type": "code",
   "execution_count": 35,
   "id": "ac8ff26a",
   "metadata": {},
   "outputs": [
    {
     "name": "stdout",
     "output_type": "stream",
     "text": [
      "전역변수:  apple\n"
     ]
    },
    {
     "data": {
      "text/plain": [
       "'apple'"
      ]
     },
     "execution_count": 35,
     "metadata": {},
     "output_type": "execute_result"
    }
   ],
   "source": [
    "def market():\n",
    "    global fruit\n",
    "    fruit = 'apple' # 전역변수\n",
    "    print('전역변수: ', fruit)\n",
    "\n",
    "market()\n",
    "fruit"
   ]
  },
  {
   "cell_type": "markdown",
   "id": "24a2de85",
   "metadata": {},
   "source": [
    "## 4. 람다\n",
    "```lambda 매개변수 : 표현식```"
   ]
  },
  {
   "cell_type": "code",
   "execution_count": 3,
   "id": "55363a6c",
   "metadata": {},
   "outputs": [
    {
     "data": {
      "text/plain": [
       "30"
      ]
     },
     "execution_count": 3,
     "metadata": {},
     "output_type": "execute_result"
    }
   ],
   "source": [
    "# 함수\n",
    "def hap(x, y):\n",
    "    return x + y\n",
    "\n",
    "hap(10, 20)"
   ]
  },
  {
   "cell_type": "code",
   "execution_count": 4,
   "id": "850d217b",
   "metadata": {},
   "outputs": [
    {
     "data": {
      "text/plain": [
       "30"
      ]
     },
     "execution_count": 4,
     "metadata": {},
     "output_type": "execute_result"
    }
   ],
   "source": [
    "# 람다\n",
    "(lambda x, y : x + y)(10, 20)"
   ]
  },
  {
   "cell_type": "markdown",
   "id": "a34a53ec",
   "metadata": {},
   "source": [
    "### map()\n",
    "```map(함수, 리스트)```\n",
    "- 함수와 리스트를 인자로 받아 리스트의 데이터들을 하나씩 꺼내 함수에 적용시킨 결과를 **새 리스트에 담는다.**"
   ]
  },
  {
   "cell_type": "code",
   "execution_count": 6,
   "id": "c66a36b7",
   "metadata": {},
   "outputs": [
    {
     "data": {
      "text/plain": [
       "[0, 1, 4, 9, 16]"
      ]
     },
     "execution_count": 6,
     "metadata": {},
     "output_type": "execute_result"
    }
   ],
   "source": [
    "list(map(lambda x : x ** 2, range(5)))"
   ]
  },
  {
   "cell_type": "markdown",
   "id": "59925938",
   "metadata": {},
   "source": [
    "### reduce()\n",
    "```reduce(함수, 시퀀스)```\n",
    "- 시퀀스의 데이터들을 함수에 **누적**하며 실행한다."
   ]
  },
  {
   "cell_type": "code",
   "execution_count": 8,
   "id": "9a6d6bfa",
   "metadata": {},
   "outputs": [
    {
     "data": {
      "text/plain": [
       "10"
      ]
     },
     "execution_count": 8,
     "metadata": {},
     "output_type": "execute_result"
    }
   ],
   "source": [
    "from functools import reduce\n",
    "reduce(lambda x, y : x + y, [0, 1, 2, 3, 4])\n",
    "# 0+1=1\n",
    "# 1+2=3\n",
    "# 3+3=6\n",
    "# 4+6=10"
   ]
  },
  {
   "cell_type": "markdown",
   "id": "f9ab01f9",
   "metadata": {},
   "source": [
    "### filter()\n",
    "```filter(함수, 리스트)```\n",
    "- 리스트에 있는 데이터들을 함수에 적용시켜 **결과가 참인 값들만** 모아 새 리스트에 담는다."
   ]
  },
  {
   "cell_type": "code",
   "execution_count": 10,
   "id": "74b9aa7e",
   "metadata": {},
   "outputs": [
    {
     "data": {
      "text/plain": [
       "[0, 1, 2, 3, 4]"
      ]
     },
     "execution_count": 10,
     "metadata": {},
     "output_type": "execute_result"
    }
   ],
   "source": [
    "# 10까지 반복하는데, 5보다 작은 것들만 뽑는다.\n",
    "list(filter(lambda x : x < 5, range(10)))"
   ]
  }
 ],
 "metadata": {
  "kernelspec": {
   "display_name": "Python 3 (ipykernel)",
   "language": "python",
   "name": "python3"
  },
  "language_info": {
   "codemirror_mode": {
    "name": "ipython",
    "version": 3
   },
   "file_extension": ".py",
   "mimetype": "text/x-python",
   "name": "python",
   "nbconvert_exporter": "python",
   "pygments_lexer": "ipython3",
   "version": "3.9.12"
  }
 },
 "nbformat": 4,
 "nbformat_minor": 5
}
