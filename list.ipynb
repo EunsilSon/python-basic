{
 "cells": [
  {
   "cell_type": "markdown",
   "id": "5731af39",
   "metadata": {},
   "source": [
    "# 리스트 (list)\n",
    "여러 개의 변수를 묶어 한 번에 처리한다."
   ]
  },
  {
   "cell_type": "markdown",
   "id": "3c5fd9ce",
   "metadata": {},
   "source": [
    "### 1. 선언"
   ]
  },
  {
   "cell_type": "code",
   "execution_count": 14,
   "id": "4559e601",
   "metadata": {},
   "outputs": [
    {
     "name": "stdout",
     "output_type": "stream",
     "text": [
      "[]\n",
      "[1, 2, 3, 4, 5]\n",
      "['가', '나', '다']\n",
      "[1, '가', 2, '나']\n",
      "[1, '가', ['안녕', 2021]]\n"
     ]
    }
   ],
   "source": [
    "a = []\n",
    "b = [1, 2, 3, 4, 5]\n",
    "c = ['가', '나', '다']\n",
    "d = [1, '가', 2, '나']\n",
    "e = [1, '가',['안녕', 2021]]\n",
    "\n",
    "print(a)\n",
    "print(b)\n",
    "print(c)\n",
    "print(d)\n",
    "print(e)"
   ]
  },
  {
   "cell_type": "markdown",
   "id": "d975e1b4",
   "metadata": {},
   "source": [
    "### 2. 인덱싱"
   ]
  },
  {
   "cell_type": "code",
   "execution_count": 10,
   "id": "74af8608",
   "metadata": {},
   "outputs": [
    {
     "name": "stdout",
     "output_type": "stream",
     "text": [
      "짱구\n"
     ]
    }
   ],
   "source": [
    "character = ['짱구', '철수', '유리', '맹구', '훈이']\n",
    "print(character[0])"
   ]
  },
  {
   "cell_type": "code",
   "execution_count": 13,
   "id": "a3ba2fdc",
   "metadata": {},
   "outputs": [
    {
     "name": "stdout",
     "output_type": "stream",
     "text": [
      "10\n"
     ]
    }
   ],
   "source": [
    "character = ['짱구', '철수', '유리', '맹구', '훈이', [10, 20]]\n",
    "print(character[5][0])"
   ]
  },
  {
   "cell_type": "markdown",
   "id": "b4ff039b",
   "metadata": {},
   "source": [
    "### 3. 슬라이싱"
   ]
  },
  {
   "cell_type": "code",
   "execution_count": 20,
   "id": "986f603d",
   "metadata": {},
   "outputs": [
    {
     "name": "stdout",
     "output_type": "stream",
     "text": [
      "['짱구', '철수', '유리', '맹구', '훈이', [10, 20]]\n",
      "[10, 20]\n"
     ]
    }
   ],
   "source": [
    "print(character[0:])\n",
    "print(character[5][:])"
   ]
  },
  {
   "cell_type": "markdown",
   "id": "d7b860ae",
   "metadata": {},
   "source": [
    "### 4. 연산"
   ]
  },
  {
   "cell_type": "code",
   "execution_count": 22,
   "id": "8b530a61",
   "metadata": {},
   "outputs": [
    {
     "name": "stdout",
     "output_type": "stream",
     "text": [
      "['1', '2', '3', '4', '5']\n",
      "14\n"
     ]
    }
   ],
   "source": [
    "a = ['1', '2', '3']\n",
    "b = ['4', '5']\n",
    "print(a + b)\n",
    "print(a[0] + b[0]) # 문자열끼리 합침"
   ]
  },
  {
   "cell_type": "markdown",
   "id": "b68edc6c",
   "metadata": {},
   "source": [
    "### 5. 값 추가, 변경, 삭제"
   ]
  },
  {
   "cell_type": "code",
   "execution_count": 29,
   "id": "f4f79d5c",
   "metadata": {},
   "outputs": [
    {
     "name": "stdout",
     "output_type": "stream",
     "text": [
      "['짱구', '철수', '유리', '맹구', '훈이', [10, 20], '흰둥이']\n"
     ]
    }
   ],
   "source": [
    "character.append('흰둥이') # 리스트 끝에 값 추가\n",
    "print(character)"
   ]
  },
  {
   "cell_type": "code",
   "execution_count": 32,
   "id": "be428982",
   "metadata": {},
   "outputs": [
    {
     "name": "stdout",
     "output_type": "stream",
     "text": [
      "['1', '짱구', '철수', '유리', '맹구', '훈이', [10, 20], '흰둥이']\n"
     ]
    }
   ],
   "source": [
    "character.insert(0, '1') # 인덱스 위치에 값 추가\n",
    "print(character)"
   ]
  },
  {
   "cell_type": "code",
   "execution_count": 34,
   "id": "94e6e159",
   "metadata": {},
   "outputs": [
    {
     "name": "stdout",
     "output_type": "stream",
     "text": [
      "['신짱구', '철수', '유리', '맹구', '훈이', [10, 20], '흰둥이']\n"
     ]
    }
   ],
   "source": [
    "character[0] = '신짱구'\n",
    "print(character)"
   ]
  },
  {
   "cell_type": "code",
   "execution_count": 36,
   "id": "7f25d92f",
   "metadata": {},
   "outputs": [
    {
     "name": "stdout",
     "output_type": "stream",
     "text": [
      "['신짱구', '철수', '유리', '맹구', '훈이', [10, 20]]\n"
     ]
    }
   ],
   "source": [
    "character.remove('흰둥이')\n",
    "print(character)"
   ]
  },
  {
   "cell_type": "markdown",
   "id": "ff56280e",
   "metadata": {},
   "source": [
    "### 6. 리스트 관련 함수들"
   ]
  },
  {
   "cell_type": "markdown",
   "id": "03352ce3",
   "metadata": {},
   "source": [
    "### 1) 정렬 .sort()"
   ]
  },
  {
   "cell_type": "code",
   "execution_count": 39,
   "id": "7cb095f4",
   "metadata": {},
   "outputs": [
    {
     "name": "stdout",
     "output_type": "stream",
     "text": [
      "[1, 3, 7, 18, 23]\n",
      "['가구', '나비', '다리']\n"
     ]
    }
   ],
   "source": [
    "a = [3, 7, 1, 23, 18]\n",
    "a.sort()\n",
    "print(a)\n",
    "\n",
    "b = ['다리', '가구', '나비']\n",
    "b.sort()\n",
    "print(b)"
   ]
  },
  {
   "cell_type": "markdown",
   "id": "351f609c",
   "metadata": {},
   "source": [
    "### 2) 특정 값의 인덱스 위치 ```.index(값)```"
   ]
  },
  {
   "cell_type": "code",
   "execution_count": 43,
   "id": "55e5250f",
   "metadata": {},
   "outputs": [
    {
     "name": "stdout",
     "output_type": "stream",
     "text": [
      "1\n"
     ]
    }
   ],
   "source": [
    "print(a.index(3))"
   ]
  },
  {
   "cell_type": "markdown",
   "id": "736b77d4",
   "metadata": {},
   "source": [
    "### 3) 리스트에 포함된 값 개수 ```.count(값)```"
   ]
  },
  {
   "cell_type": "code",
   "execution_count": 47,
   "id": "3051fb6f",
   "metadata": {},
   "outputs": [
    {
     "name": "stdout",
     "output_type": "stream",
     "text": [
      "2\n"
     ]
    }
   ],
   "source": [
    "a = [1, 3, 7, 6, 6, 3]\n",
    "print(a.count(6))"
   ]
  }
 ],
 "metadata": {
  "kernelspec": {
   "display_name": "Python 3 (ipykernel)",
   "language": "python",
   "name": "python3"
  },
  "language_info": {
   "codemirror_mode": {
    "name": "ipython",
    "version": 3
   },
   "file_extension": ".py",
   "mimetype": "text/x-python",
   "name": "python",
   "nbconvert_exporter": "python",
   "pygments_lexer": "ipython3",
   "version": "3.9.12"
  }
 },
 "nbformat": 4,
 "nbformat_minor": 5
}
