{
 "cells": [
  {
   "cell_type": "markdown",
   "id": "7c61469c",
   "metadata": {},
   "source": [
    "# 변수와 자료형\n",
    "\n",
    "### 1. 동적 타입 언어\n",
    "- 변수 선언 시 자료형을 명시적으로 선언하지 않음\n",
    "- 컴파일 시점이 아닌 런타임 시점에 변수의 유형이 결정됨\n",
    "\n",
    "### 2. 자료형\n",
    "- 수치 : int, float, complex(복소수)\n",
    "- 불 : bool\n",
    "- 군집 : str, list, tuple, set, dictionary"
   ]
  },
  {
   "cell_type": "markdown",
   "id": "3b77a6b2",
   "metadata": {},
   "source": [
    "## 1. 초기화"
   ]
  },
  {
   "cell_type": "code",
   "execution_count": 4,
   "id": "2c792897",
   "metadata": {},
   "outputs": [
    {
     "name": "stdout",
     "output_type": "stream",
     "text": [
      "10\n"
     ]
    }
   ],
   "source": [
    "a = 10\n",
    "print(a)"
   ]
  },
  {
   "cell_type": "code",
   "execution_count": 7,
   "id": "754fcd90",
   "metadata": {},
   "outputs": [
    {
     "name": "stdout",
     "output_type": "stream",
     "text": [
      "10\n",
      "10 20\n",
      "10 20\n",
      "10 10\n",
      "None\n"
     ]
    }
   ],
   "source": [
    "a = 10\n",
    "print(a)\n",
    "\n",
    "a, b = (10, 20)\n",
    "print(a, b)\n",
    "\n",
    "[a, b] = [10, 20]\n",
    "print(a, b)\n",
    "\n",
    "a = b = 10\n",
    "print(a, b)\n",
    "\n",
    "a  = None\n",
    "print(a)"
   ]
  },
  {
   "cell_type": "markdown",
   "id": "6734ffb0",
   "metadata": {},
   "source": [
    "## 2. 변수 교환"
   ]
  },
  {
   "cell_type": "code",
   "execution_count": 1,
   "id": "fc569bc2",
   "metadata": {},
   "outputs": [
    {
     "name": "stdout",
     "output_type": "stream",
     "text": [
      "10 2000\n",
      "2000 10\n"
     ]
    }
   ],
   "source": [
    "a = 10\n",
    "b = 2000\n",
    "print(a, b)\n",
    "\n",
    "a, b = b, a\n",
    "print(a, b)"
   ]
  },
  {
   "cell_type": "markdown",
   "id": "1399c4f5",
   "metadata": {},
   "source": [
    "## 3. 슬라이싱"
   ]
  },
  {
   "cell_type": "code",
   "execution_count": 15,
   "id": "a694eb3d",
   "metadata": {},
   "outputs": [
    {
     "name": "stdout",
     "output_type": "stream",
     "text": [
      "[1, 2, 3]\n",
      "[1, 2, 3]\n",
      "[10, 2, 3]\n",
      "[1, 2, 3]\n"
     ]
    }
   ],
   "source": [
    "a = [1, 2, 3]\n",
    "b = a[:] # a의 값들을 각각 슬라이싱하여 복사 후 붙여 넣기 \n",
    "print(a)\n",
    "print(b)\n",
    "\n",
    "a[0] = 10\n",
    "print(a)\n",
    "print(b)"
   ]
  }
 ],
 "metadata": {
  "kernelspec": {
   "display_name": "Python 3 (ipykernel)",
   "language": "python",
   "name": "python3"
  },
  "language_info": {
   "codemirror_mode": {
    "name": "ipython",
    "version": 3
   },
   "file_extension": ".py",
   "mimetype": "text/x-python",
   "name": "python",
   "nbconvert_exporter": "python",
   "pygments_lexer": "ipython3",
   "version": "3.9.12"
  }
 },
 "nbformat": 4,
 "nbformat_minor": 5
}
