{
 "cells": [
  {
   "cell_type": "markdown",
   "id": "3cba2df7",
   "metadata": {},
   "source": [
    "# Dictionary\n",
    "- 데이터를 Key-value 형태로 하나의 변수에 선언하는 자료형\n",
    "- Key 중복 불가능, value 중복 가능\n",
    "- 이중으로 작성 가능 ```{key:value, {key:value}}```\n",
    "- 리스트, 튜플, 딕셔너리처럼 여러 개의 값을 저장하는 자료형을 **컨테이너**라고 함\n",
    "\n",
    "### 주의사항\n",
    "- key : 리스트 불가능, 튜플 가능(튜플은 값 변경이 안 되기 때문)\n",
    "- value : 리스트 가능\n"
   ]
  },
  {
   "cell_type": "markdown",
   "id": "7079ce96",
   "metadata": {},
   "source": [
    "## 1. 선언과 주의사항"
   ]
  },
  {
   "cell_type": "code",
   "execution_count": 1,
   "id": "e1e8e31c",
   "metadata": {},
   "outputs": [
    {
     "name": "stdout",
     "output_type": "stream",
     "text": [
      "{1: '사과', 2: '바나나', 3: '메론'}\n"
     ]
    }
   ],
   "source": [
    "fruit = {1:'사과', 2:'바나나', 3:'메론'}\n",
    "print(fruit)"
   ]
  },
  {
   "cell_type": "code",
   "execution_count": 4,
   "id": "5fb8184b",
   "metadata": {},
   "outputs": [
    {
     "ename": "TypeError",
     "evalue": "unhashable type: 'list'",
     "output_type": "error",
     "traceback": [
      "\u001b[1;31m---------------------------------------------------------------------------\u001b[0m",
      "\u001b[1;31mTypeError\u001b[0m                                 Traceback (most recent call last)",
      "Input \u001b[1;32mIn [4]\u001b[0m, in \u001b[0;36m<cell line: 1>\u001b[1;34m()\u001b[0m\n\u001b[1;32m----> 1\u001b[0m fruit \u001b[38;5;241m=\u001b[39m {[\u001b[38;5;124m'\u001b[39m\u001b[38;5;124m과일\u001b[39m\u001b[38;5;124m'\u001b[39m, \u001b[38;5;124m'\u001b[39m\u001b[38;5;124m빨간색\u001b[39m\u001b[38;5;124m'\u001b[39m]:[\u001b[38;5;124m'\u001b[39m\u001b[38;5;124m사과\u001b[39m\u001b[38;5;124m'\u001b[39m, \u001b[38;5;124m'\u001b[39m\u001b[38;5;124m앵두\u001b[39m\u001b[38;5;124m'\u001b[39m]} \u001b[38;5;66;03m# key 리스트 불가능\u001b[39;00m\n\u001b[0;32m      2\u001b[0m fruit\n",
      "\u001b[1;31mTypeError\u001b[0m: unhashable type: 'list'"
     ]
    }
   ],
   "source": [
    "fruit = {['과일', '빨간색']:['사과', '앵두']} # key 리스트 불가능\n",
    "fruit"
   ]
  },
  {
   "cell_type": "code",
   "execution_count": 6,
   "id": "1f814db6",
   "metadata": {},
   "outputs": [
    {
     "data": {
      "text/plain": [
       "{('과일', '빨간색'): ['사과', '앵두']}"
      ]
     },
     "execution_count": 6,
     "metadata": {},
     "output_type": "execute_result"
    }
   ],
   "source": [
    "fruit = {('과일', '빨간색'):['사과', '앵두']} # key 튜플 가능\n",
    "fruit"
   ]
  },
  {
   "cell_type": "markdown",
   "id": "8cbb24ba",
   "metadata": {},
   "source": [
    "## 2. Dictionary 사용 방법"
   ]
  },
  {
   "cell_type": "markdown",
   "id": "2fcb1751",
   "metadata": {},
   "source": [
    "### 1. value 출력"
   ]
  },
  {
   "cell_type": "code",
   "execution_count": 17,
   "id": "ffc074db",
   "metadata": {},
   "outputs": [
    {
     "name": "stdout",
     "output_type": "stream",
     "text": [
      "['수학', '영어']\n",
      "['수학', '영어']\n",
      "dict_values([['수학', '영어'], ['국어', '사회']])\n",
      "dict_keys(['A', 'B'])\n"
     ]
    }
   ],
   "source": [
    "score = {'A':['수학', '영어'], 'B':['국어', '사회']}\n",
    "\n",
    "print(score['A']) # []\n",
    "print(score.get('A')) # .get()\n",
    "print(score.values()) # 딕셔너리의 모든 value 값 출력\n",
    "print(score.keys()) # 딕셔너리의 모든 key 값 출력"
   ]
  },
  {
   "cell_type": "markdown",
   "id": "8c5f1df7",
   "metadata": {},
   "source": [
    "### 2. 값 삽입, 수정, 삭제"
   ]
  },
  {
   "cell_type": "code",
   "execution_count": 18,
   "id": "83f41520",
   "metadata": {},
   "outputs": [
    {
     "data": {
      "text/plain": [
       "{1: 'a', 2: 'b', 3: 'c'}"
      ]
     },
     "execution_count": 18,
     "metadata": {},
     "output_type": "execute_result"
    }
   ],
   "source": [
    "# 삽입\n",
    "di = {1 : 'a', 2 : 'b'}\n",
    "di[3] = 'c'\n",
    "di"
   ]
  },
  {
   "cell_type": "code",
   "execution_count": 20,
   "id": "6d0e2e49",
   "metadata": {},
   "outputs": [
    {
     "data": {
      "text/plain": [
       "{'A': ['수학', '영어'], 'B': '과학'}"
      ]
     },
     "execution_count": 20,
     "metadata": {},
     "output_type": "execute_result"
    }
   ],
   "source": [
    "# 수정\n",
    "score = {'A':['수학', '영어'], 'B':['국어', '사회']}\n",
    "score['B'] = '과학'\n",
    "score"
   ]
  },
  {
   "cell_type": "code",
   "execution_count": 21,
   "id": "cf9447b2",
   "metadata": {},
   "outputs": [
    {
     "data": {
      "text/plain": [
       "{'A': ['수학', '영어']}"
      ]
     },
     "execution_count": 21,
     "metadata": {},
     "output_type": "execute_result"
    }
   ],
   "source": [
    "# 삭제\n",
    "del score['B']\n",
    "score"
   ]
  },
  {
   "cell_type": "markdown",
   "id": "6e4dc03c",
   "metadata": {},
   "source": [
    "### 3. key의 존재 유무 확인 ```key in 변수```"
   ]
  },
  {
   "cell_type": "code",
   "execution_count": 27,
   "id": "09f835c4",
   "metadata": {},
   "outputs": [
    {
     "name": "stdout",
     "output_type": "stream",
     "text": [
      "True\n",
      "False\n"
     ]
    }
   ],
   "source": [
    "score = {'A':['수학', '영어'], 'B':['국어', '사회']}\n",
    "print('A' in score)\n",
    "print('C' in score)"
   ]
  },
  {
   "cell_type": "markdown",
   "id": "da3b2a30",
   "metadata": {},
   "source": [
    "### 4. key와 value 함께 출력 ```.items()```"
   ]
  },
  {
   "cell_type": "code",
   "execution_count": 30,
   "id": "33a36157",
   "metadata": {},
   "outputs": [
    {
     "data": {
      "text/plain": [
       "{'A': ['수학', '영어'], 'B': ['국어', '사회']}"
      ]
     },
     "execution_count": 30,
     "metadata": {},
     "output_type": "execute_result"
    }
   ],
   "source": [
    "score = {'A':['수학', '영어'], 'B':['국어', '사회']}\n",
    "score.items()\n",
    "score"
   ]
  },
  {
   "cell_type": "markdown",
   "id": "841c73b0",
   "metadata": {},
   "source": [
    "### 5. 딕셔너리의 모든 값 삭제 ```.clear()```"
   ]
  },
  {
   "cell_type": "code",
   "execution_count": 29,
   "id": "b2c07b69",
   "metadata": {},
   "outputs": [
    {
     "data": {
      "text/plain": [
       "{}"
      ]
     },
     "execution_count": 29,
     "metadata": {},
     "output_type": "execute_result"
    }
   ],
   "source": [
    "score = {'A':['수학', '영어'], 'B':['국어', '사회']}\n",
    "score.clear()\n",
    "score"
   ]
  }
 ],
 "metadata": {
  "kernelspec": {
   "display_name": "Python 3 (ipykernel)",
   "language": "python",
   "name": "python3"
  },
  "language_info": {
   "codemirror_mode": {
    "name": "ipython",
    "version": 3
   },
   "file_extension": ".py",
   "mimetype": "text/x-python",
   "name": "python",
   "nbconvert_exporter": "python",
   "pygments_lexer": "ipython3",
   "version": "3.9.12"
  }
 },
 "nbformat": 4,
 "nbformat_minor": 5
}
