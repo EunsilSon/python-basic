{
 "cells": [
  {
   "cell_type": "markdown",
   "id": "2ce06c9d",
   "metadata": {},
   "source": [
    "# if문\n",
    "- 구조\n",
    "```\n",
    "if (조건) :\n",
    "    수행할 문장\n",
    "else :\n",
    "    수행할 문장\n",
    "```"
   ]
  },
  {
   "cell_type": "code",
   "execution_count": 3,
   "id": "7dd4f7f0",
   "metadata": {},
   "outputs": [
    {
     "name": "stdout",
     "output_type": "stream",
     "text": [
      "참 입니다.\n"
     ]
    }
   ],
   "source": [
    "check = True # bool 자료형의 앞 글자는 대문자로 작성\n",
    "if check :\n",
    "    print('참 입니다.')\n",
    "else :\n",
    "    print('거짓 입니다.')"
   ]
  },
  {
   "cell_type": "markdown",
   "id": "4657ca20",
   "metadata": {},
   "source": [
    "## 포함 연산자 ```in```, ```not in```\n",
    "~가 ~안에 존재하는 가/하지 않는 가?\n",
    "- 리스트, 튜플, 문자열에서 사용 가능"
   ]
  },
  {
   "cell_type": "code",
   "execution_count": 7,
   "id": "46b634b1",
   "metadata": {},
   "outputs": [
    {
     "data": {
      "text/plain": [
       "True"
      ]
     },
     "execution_count": 7,
     "metadata": {},
     "output_type": "execute_result"
    }
   ],
   "source": [
    "'a' in 'abcde' # 문자열"
   ]
  },
  {
   "cell_type": "code",
   "execution_count": 9,
   "id": "66f1c0e7",
   "metadata": {},
   "outputs": [
    {
     "data": {
      "text/plain": [
       "True"
      ]
     },
     "execution_count": 9,
     "metadata": {},
     "output_type": "execute_result"
    }
   ],
   "source": [
    "'a' in ('a', 'b', 'c') # 튜플"
   ]
  },
  {
   "cell_type": "code",
   "execution_count": 11,
   "id": "422879c8",
   "metadata": {},
   "outputs": [
    {
     "data": {
      "text/plain": [
       "True"
      ]
     },
     "execution_count": 11,
     "metadata": {},
     "output_type": "execute_result"
    }
   ],
   "source": [
    "'a' in ['a', 'b', 'c'] # 리스트"
   ]
  },
  {
   "cell_type": "markdown",
   "id": "ca997c90",
   "metadata": {},
   "source": [
    "### pass\n",
    "무언가를 수행하지 않고 넘어가기"
   ]
  },
  {
   "cell_type": "code",
   "execution_count": 13,
   "id": "b1f2590c",
   "metadata": {},
   "outputs": [],
   "source": [
    "name = \"손은실\"\n",
    "if name == \"은실\" :\n",
    "    print('같습니다.')\n",
    "else :\n",
    "    pass"
   ]
  },
  {
   "cell_type": "markdown",
   "id": "5025a8c7",
   "metadata": {},
   "source": [
    "## elif\n",
    "여러 가지 조건 판단"
   ]
  },
  {
   "cell_type": "code",
   "execution_count": 15,
   "id": "4593d013",
   "metadata": {},
   "outputs": [
    {
     "name": "stdout",
     "output_type": "stream",
     "text": [
      "딸기 구매\n"
     ]
    }
   ],
   "source": [
    "# 마트에 가서 딸기를 사오고, 없으면 바나나를 사오고, 둘 다 없으면 아무것도 사지마라\n",
    "\n",
    "market = ['strawberry', 'banana']\n",
    "if 'strawberry' in market:\n",
    "    print('딸기 구매')\n",
    "elif 'banana' in market:\n",
    "    print('바나나 구매')\n",
    "else :\n",
    "    print('구매한 과일이 없습니다.')\n",
    "    "
   ]
  },
  {
   "cell_type": "markdown",
   "id": "17b6103d",
   "metadata": {},
   "source": [
    "### if문 활용\n",
    "성적 산출 프로그램\n",
    "- A : 90~100\n",
    "- B : 80~89\n",
    "- C : 70 ~ 79\n",
    "- F : 70 이하\n",
    "\n",
    "```input()``` 사용자 입력 받는 함수"
   ]
  },
  {
   "cell_type": "code",
   "execution_count": 30,
   "id": "7e9dc071",
   "metadata": {},
   "outputs": [
    {
     "name": "stdout",
     "output_type": "stream",
     "text": [
      "성적을 입력하세요85\n",
      "B\n"
     ]
    }
   ],
   "source": [
    "score = int(input('성적을 입력하세요'))\n",
    "if score >= 90:\n",
    "    print('A')\n",
    "elif score >= 80:\n",
    "    print('B')\n",
    "elif score >= 70:\n",
    "    print('C')\n",
    "else :\n",
    "    print('F')"
   ]
  }
 ],
 "metadata": {
  "kernelspec": {
   "display_name": "Python 3 (ipykernel)",
   "language": "python",
   "name": "python3"
  },
  "language_info": {
   "codemirror_mode": {
    "name": "ipython",
    "version": 3
   },
   "file_extension": ".py",
   "mimetype": "text/x-python",
   "name": "python",
   "nbconvert_exporter": "python",
   "pygments_lexer": "ipython3",
   "version": "3.9.12"
  }
 },
 "nbformat": 4,
 "nbformat_minor": 5
}
