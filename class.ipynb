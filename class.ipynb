{
 "cells": [
  {
   "cell_type": "markdown",
   "id": "85a3a47e",
   "metadata": {},
   "source": [
    "# 클래스"
   ]
  },
  {
   "cell_type": "markdown",
   "id": "91133564",
   "metadata": {},
   "source": [
    "클래스 내부에 정의된 메서드의 **첫번째 인자는 반드시 self**여야 한다."
   ]
  },
  {
   "cell_type": "markdown",
   "id": "a47990a2",
   "metadata": {},
   "source": [
    "## 1. 클래스 생성과 접근"
   ]
  },
  {
   "cell_type": "code",
   "execution_count": 1,
   "id": "8b3224b4",
   "metadata": {},
   "outputs": [],
   "source": [
    "class BusinessCard:\n",
    "    def set_info(self, name, email, addr):\n",
    "        self.name = name # 대입 = 바인딩\n",
    "        self.email = email\n",
    "        self.addr = addr\n",
    "        "
   ]
  },
  {
   "cell_type": "code",
   "execution_count": 2,
   "id": "057a9400",
   "metadata": {},
   "outputs": [
    {
     "data": {
      "text/plain": [
       "<__main__.BusinessCard at 0x16d68c61790>"
      ]
     },
     "execution_count": 2,
     "metadata": {},
     "output_type": "execute_result"
    }
   ],
   "source": [
    "member1 = BusinessCard()\n",
    "member1"
   ]
  },
  {
   "cell_type": "markdown",
   "id": "6c13baff",
   "metadata": {},
   "source": [
    "#### 인스턴스 변수 접근\n",
    "```인스턴스 명.인스턴스 변수```"
   ]
  },
  {
   "cell_type": "code",
   "execution_count": 5,
   "id": "5809976a",
   "metadata": {},
   "outputs": [
    {
     "name": "stdout",
     "output_type": "stream",
     "text": [
      "Eunsil Son\n",
      "eunsil1023@gmail.com\n",
      "Daegu\n"
     ]
    }
   ],
   "source": [
    "member1.set_info(\"Eunsil Son\", \"eunsil1023@gmail.com\", \"Daegu\")\n",
    "print(member1.name)\n",
    "print(member1.email)\n",
    "print(member1.addr)"
   ]
  },
  {
   "cell_type": "code",
   "execution_count": 9,
   "id": "8e9c2582",
   "metadata": {},
   "outputs": [
    {
     "name": "stdout",
     "output_type": "stream",
     "text": [
      "--------------------\n",
      "Name:  Eunsil Son\n",
      "E-mail:  eunsil1023@gmail.com\n",
      "Address:  Daegu\n",
      "--------------------\n"
     ]
    }
   ],
   "source": [
    "class BusinessCard:\n",
    "    def set_info(self, name, email, addr):\n",
    "        self.name = name # 대입 = 바인딩\n",
    "        self.email = email\n",
    "        self.addr = addr\n",
    "        \n",
    "    def print_info(self):\n",
    "        print(\"--------------------\")\n",
    "        print(\"Name: \", self.name)\n",
    "        print(\"E-mail: \", self.email)\n",
    "        print(\"Address: \", self.addr)\n",
    "        print(\"--------------------\")\n",
    "\n",
    "member1 = BusinessCard()\n",
    "member1.set_info(\"Eunsil Son\", \"eunsil1023@gmail.com\", \"Daegu\")\n",
    "member1.print_info()"
   ]
  },
  {
   "cell_type": "markdown",
   "id": "4c24cf1e",
   "metadata": {},
   "source": [
    "## 2. 클래스 생성자 ```__init__(self)```\n",
    "__ 로 시작하는 함수는 특별한 메서드임을 의미한다."
   ]
  },
  {
   "cell_type": "code",
   "execution_count": 12,
   "id": "43c629fd",
   "metadata": {},
   "outputs": [
    {
     "name": "stdout",
     "output_type": "stream",
     "text": [
      "객체가 생성되었습니다.\n"
     ]
    }
   ],
   "source": [
    "class MyClass:\n",
    "    def __init__(self):\n",
    "        print(\"객체가 생성되었습니다.\")\n",
    "        \n",
    "instance1 = MyClass()"
   ]
  },
  {
   "cell_type": "markdown",
   "id": "b4e07a5f",
   "metadata": {},
   "source": [
    "## self 이해하기\n",
    "사실 메서드의 첫 번째 인자가 항상 self여야한다는 것은 틀린 말이다."
   ]
  },
  {
   "cell_type": "code",
   "execution_count": 46,
   "id": "94d5928f",
   "metadata": {},
   "outputs": [
    {
     "name": "stdout",
     "output_type": "stream",
     "text": [
      "function 2\n"
     ]
    }
   ],
   "source": [
    "class Main:\n",
    "    def no_argument():\n",
    "        print(\"function 1\")\n",
    "        \n",
    "    def yes_argument(self):\n",
    "        print(\"function 2\")\n",
    "\n",
    "m = Main()\n",
    "m.yes_argument()"
   ]
  },
  {
   "cell_type": "markdown",
   "id": "f082c135",
   "metadata": {},
   "source": [
    "##### func2 메서드의 첫 번째 인자가 self지만 아무것도 전달하지 않는 이유?\n",
    "→ 파이썬이 self에 대한 값을 **자동으로** 넘겨준다."
   ]
  },
  {
   "cell_type": "code",
   "execution_count": 47,
   "id": "93015342",
   "metadata": {},
   "outputs": [
    {
     "ename": "TypeError",
     "evalue": "no_argument() takes 0 positional arguments but 1 was given",
     "output_type": "error",
     "traceback": [
      "\u001b[1;31m---------------------------------------------------------------------------\u001b[0m",
      "\u001b[1;31mTypeError\u001b[0m                                 Traceback (most recent call last)",
      "Input \u001b[1;32mIn [47]\u001b[0m, in \u001b[0;36m<cell line: 1>\u001b[1;34m()\u001b[0m\n\u001b[1;32m----> 1\u001b[0m \u001b[43mm\u001b[49m\u001b[38;5;241;43m.\u001b[39;49m\u001b[43mno_argument\u001b[49m\u001b[43m(\u001b[49m\u001b[43m)\u001b[49m\n",
      "\u001b[1;31mTypeError\u001b[0m: no_argument() takes 0 positional arguments but 1 was given"
     ]
    }
   ],
   "source": [
    "m.no_argument()"
   ]
  },
  {
   "cell_type": "markdown",
   "id": "3dbafa55",
   "metadata": {},
   "source": [
    "##### func1 메서드는 인자가 없는데 하나를 받은 이유?\n",
    "→ 파이썬 메서드의 첫 번째 인자로 항상 인스턴스가 전달되기 때문"
   ]
  },
  {
   "cell_type": "markdown",
   "id": "986bb932",
   "metadata": {},
   "source": [
    "### 생성한 인스턴스가 할당된 메모리 주소 확인"
   ]
  },
  {
   "cell_type": "code",
   "execution_count": 61,
   "id": "8e7a4c73",
   "metadata": {},
   "outputs": [
    {
     "data": {
      "text/plain": [
       "1569438898928"
      ]
     },
     "execution_count": 61,
     "metadata": {},
     "output_type": "execute_result"
    }
   ],
   "source": [
    "class Main:\n",
    "    def no_argument():\n",
    "        print(\"function 1\")\n",
    "        \n",
    "    def yes_argument(self):\n",
    "        print(id(self))\n",
    "        print(\"function 2\")\n",
    "\n",
    "m = Main()\n",
    "id(m) # 생성한 인스턴스를 인자로 전달"
   ]
  },
  {
   "cell_type": "code",
   "execution_count": 63,
   "id": "3eff410a",
   "metadata": {},
   "outputs": [
    {
     "name": "stdout",
     "output_type": "stream",
     "text": [
      "1569438898928\n",
      "function 2\n"
     ]
    }
   ],
   "source": [
    "Main.yes_argument(m) # 클래스 명으로 위에서 생성한 인스턴스의 메모리 주소 확인 => 동일"
   ]
  },
  {
   "cell_type": "markdown",
   "id": "d2c8644a",
   "metadata": {},
   "source": [
    "## 3. 클래스 이름으로 메서드 호출\n",
    "파이썬의 클래스는 그 자체가 하나의 **네임스페이스**이기 때문에 인스턴스 생성과 상관없이 클래스 내의 메서드를 직접 호출할 수 있다."
   ]
  },
  {
   "cell_type": "code",
   "execution_count": 48,
   "id": "f8d99145",
   "metadata": {},
   "outputs": [
    {
     "name": "stdout",
     "output_type": "stream",
     "text": [
      "function 1\n"
     ]
    }
   ],
   "source": [
    "class Main:\n",
    "    def no_argument():\n",
    "        print(\"function 1\")\n",
    "        \n",
    "    def yes_argument(self):\n",
    "        print(id(self))\n",
    "        print(\"function 2\")\n",
    "\n",
    "Main.no_argument() # 클래스명.메서드명()"
   ]
  },
  {
   "cell_type": "markdown",
   "id": "764e3adb",
   "metadata": {},
   "source": [
    "## 4. 클래스 네임스페이스\n",
    "변수가 객체를 바인딩할 때 둘 사이의 관계를 저장하고 있는 공간<br><br>\n",
    "예) `a = 2` a라는 변수가 2라는 객체가 저장된 주소를 갖고있는 연결 관계가 저장된 공간이 **네임스페이스**이다."
   ]
  },
  {
   "cell_type": "markdown",
   "id": "9eda3f5a",
   "metadata": {},
   "source": [
    "#### Stock 클래스 정의\n",
    "하나의 독립적인 네임스페이스 생성"
   ]
  },
  {
   "cell_type": "code",
   "execution_count": 10,
   "id": "f6cf23bb",
   "metadata": {},
   "outputs": [
    {
     "data": {
      "text/plain": [
       "__main__.Stock"
      ]
     },
     "execution_count": 10,
     "metadata": {},
     "output_type": "execute_result"
    }
   ],
   "source": [
    "class Stock:\n",
    "    market = \"kospi\"\n",
    "\n",
    "dir() # Stock클래스가 포함됨\n",
    "Stock"
   ]
  },
  {
   "cell_type": "markdown",
   "id": "8bd13198",
   "metadata": {},
   "source": [
    "#### Stock 클래스의 네임스페이스"
   ]
  },
  {
   "cell_type": "code",
   "execution_count": 8,
   "id": "6c162bb5",
   "metadata": {},
   "outputs": [
    {
     "data": {
      "text/plain": [
       "mappingproxy({'__module__': '__main__',\n",
       "              'market': 'kospi',\n",
       "              '__dict__': <attribute '__dict__' of 'Stock' objects>,\n",
       "              '__weakref__': <attribute '__weakref__' of 'Stock' objects>,\n",
       "              '__doc__': None})"
      ]
     },
     "execution_count": 8,
     "metadata": {},
     "output_type": "execute_result"
    }
   ],
   "source": [
    "Stock.__dict__"
   ]
  },
  {
   "cell_type": "code",
   "execution_count": 9,
   "id": "564cd70b",
   "metadata": {},
   "outputs": [
    {
     "data": {
      "text/plain": [
       "'kospi'"
      ]
     },
     "execution_count": 9,
     "metadata": {},
     "output_type": "execute_result"
    }
   ],
   "source": [
    "Stock.market"
   ]
  },
  {
   "cell_type": "markdown",
   "id": "81360d7e",
   "metadata": {},
   "source": [
    "#### Stock 클래스의 인스턴스 생성\n",
    "인스턴스 마다 별도의 네임스페이스 유지"
   ]
  },
  {
   "cell_type": "code",
   "execution_count": 12,
   "id": "1259e3c1",
   "metadata": {},
   "outputs": [
    {
     "name": "stdout",
     "output_type": "stream",
     "text": [
      "s1:  3092697890144\n",
      "s2:  3092697889376\n"
     ]
    }
   ],
   "source": [
    "s1 = Stock()\n",
    "s2 = Stock()\n",
    "print(\"s1: \", id(s1))\n",
    "print(\"s2: \", id(s2))"
   ]
  },
  {
   "cell_type": "markdown",
   "id": "dcbc28fa",
   "metadata": {},
   "source": [
    "## 5. 클래스 변수와 인스턴스 변수\n",
    "- 클래스 변수 : 클래스 내부 선언\n",
    "- 인스턴스 변수 : 앞에 self가 붙은 변수"
   ]
  },
  {
   "cell_type": "code",
   "execution_count": 14,
   "id": "140fcabb",
   "metadata": {},
   "outputs": [],
   "source": [
    "class Account:\n",
    "    num_accounts = 0\n",
    "    \n",
    "    # 인스턴스 생성 시 자동 호출\n",
    "    def __init__(self, name):\n",
    "        self.name = name\n",
    "        Account.num_accounts += 1\n",
    "    \n",
    "    # 인스턴스 소멸 시 자동 호출\n",
    "    def __del__(self):\n",
    "        Account.num_accounts -= 1"
   ]
  },
  {
   "cell_type": "code",
   "execution_count": 19,
   "id": "12dc93f0",
   "metadata": {},
   "outputs": [
    {
     "name": "stdout",
     "output_type": "stream",
     "text": [
      "kim\n",
      "lee\n",
      "2\n",
      "2\n"
     ]
    }
   ],
   "source": [
    "# 객체 생성\n",
    "kim = Account(\"kim\")\n",
    "lee = Account(\"lee\")\n",
    "\n",
    "# 인스턴스 변수 접근\n",
    "print(kim.name)\n",
    "print(lee.name)\n",
    "\n",
    "print(kim.num_accounts) # 여러 인스턴스 간에 공유해야 하는 값은 클래스 변수를 통해 바인딩\n",
    "print(lee.num_accounts)"
   ]
  },
  {
   "cell_type": "markdown",
   "id": "2c874e3e",
   "metadata": {},
   "source": [
    "## 6. 클래스 상속"
   ]
  },
  {
   "cell_type": "markdown",
   "id": "7c9dcd0e",
   "metadata": {},
   "source": [
    "#### 부모 클래스 작성"
   ]
  },
  {
   "cell_type": "code",
   "execution_count": 37,
   "id": "2fd15440",
   "metadata": {},
   "outputs": [
    {
     "name": "stdout",
     "output_type": "stream",
     "text": [
      "Sing a song\n"
     ]
    }
   ],
   "source": [
    "class Parent:\n",
    "    def can_sing(self):\n",
    "        print(\"Sing a song\")\n",
    "\n",
    "father = Parent()\n",
    "father.can_sing()"
   ]
  },
  {
   "cell_type": "markdown",
   "id": "036e3ca8",
   "metadata": {},
   "source": [
    "#### 부모 클래스 상속 받기\n",
    "```\n",
    "class 자식 클래스 명(부모 클래스 명):\n",
    "    pass 또는 메서드 추가 생성\n",
    "```"
   ]
  },
  {
   "cell_type": "code",
   "execution_count": 41,
   "id": "e167ed61",
   "metadata": {},
   "outputs": [
    {
     "name": "stdout",
     "output_type": "stream",
     "text": [
      "Sing a song\n"
     ]
    }
   ],
   "source": [
    "class Child1(Parent):\n",
    "    pass # 부모 클래스의 메서드를 가져온다\n",
    "\n",
    "child1 = Child1()\n",
    "child1.can_sing()"
   ]
  },
  {
   "cell_type": "code",
   "execution_count": 42,
   "id": "a9f1aead",
   "metadata": {},
   "outputs": [
    {
     "ename": "AttributeError",
     "evalue": "'Child2' object has no attribute 'can_sing'",
     "output_type": "error",
     "traceback": [
      "\u001b[1;31m---------------------------------------------------------------------------\u001b[0m",
      "\u001b[1;31mAttributeError\u001b[0m                            Traceback (most recent call last)",
      "Input \u001b[1;32mIn [42]\u001b[0m, in \u001b[0;36m<cell line: 5>\u001b[1;34m()\u001b[0m\n\u001b[0;32m      2\u001b[0m     \u001b[38;5;28;01mpass\u001b[39;00m\n\u001b[0;32m      4\u001b[0m child2 \u001b[38;5;241m=\u001b[39m Child2()\n\u001b[1;32m----> 5\u001b[0m \u001b[43mchild2\u001b[49m\u001b[38;5;241;43m.\u001b[39;49m\u001b[43mcan_sing\u001b[49m()\n",
      "\u001b[1;31mAttributeError\u001b[0m: 'Child2' object has no attribute 'can_sing'"
     ]
    }
   ],
   "source": [
    "class Child2:\n",
    "    pass\n",
    "\n",
    "child2 = Child2()\n",
    "child2.can_sing()"
   ]
  },
  {
   "cell_type": "markdown",
   "id": "49fef0c8",
   "metadata": {},
   "source": [
    "#### 자식 클래스에서 메서드 추가 생성 가능"
   ]
  },
  {
   "cell_type": "code",
   "execution_count": 40,
   "id": "8265d1e4",
   "metadata": {},
   "outputs": [
    {
     "name": "stdout",
     "output_type": "stream",
     "text": [
      "Sing a song\n",
      "Shuffle Dance\n"
     ]
    }
   ],
   "source": [
    "class Child3(Parent):\n",
    "    def can_dance(self):\n",
    "        print(\"Shuffle Dance\")\n",
    "\n",
    "child3 = Child3()\n",
    "child3.can_sing()\n",
    "child3.can_dance()"
   ]
  }
 ],
 "metadata": {
  "kernelspec": {
   "display_name": "Python 3 (ipykernel)",
   "language": "python",
   "name": "python3"
  },
  "language_info": {
   "codemirror_mode": {
    "name": "ipython",
    "version": 3
   },
   "file_extension": ".py",
   "mimetype": "text/x-python",
   "name": "python",
   "nbconvert_exporter": "python",
   "pygments_lexer": "ipython3",
   "version": "3.9.12"
  }
 },
 "nbformat": 4,
 "nbformat_minor": 5
}
