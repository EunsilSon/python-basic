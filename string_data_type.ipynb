{
 "cells": [
  {
   "cell_type": "markdown",
   "id": "f426b15d",
   "metadata": {},
   "source": [
    "## 1. 데이터 유형 확인 ```type()```"
   ]
  },
  {
   "cell_type": "code",
   "execution_count": 2,
   "id": "33d266c3",
   "metadata": {},
   "outputs": [
    {
     "name": "stdout",
     "output_type": "stream",
     "text": [
      "<class 'int'>\n",
      "<class 'float'>\n"
     ]
    }
   ],
   "source": [
    "# 데이터 유형 확인\n",
    "a = 10\n",
    "print(type(a))\n",
    "\n",
    "b = 0.01\n",
    "print(type(b))"
   ]
  },
  {
   "cell_type": "markdown",
   "id": "5fcf869b",
   "metadata": {},
   "source": [
    "## 2. 문자열 합치기 ```+```"
   ]
  },
  {
   "cell_type": "code",
   "execution_count": 3,
   "id": "3ca56aa4",
   "metadata": {},
   "outputs": [
    {
     "name": "stdout",
     "output_type": "stream",
     "text": [
      "빅데이터분석\n"
     ]
    }
   ],
   "source": [
    "a = \"빅데이터\"\n",
    "b = \"분석\"\n",
    "print(a + b)"
   ]
  },
  {
   "cell_type": "markdown",
   "id": "46cdb69f",
   "metadata": {},
   "source": [
    "## 3. 문자열 곱셈 (여러 개 만들기)"
   ]
  },
  {
   "cell_type": "code",
   "execution_count": 4,
   "id": "09e07c39",
   "metadata": {},
   "outputs": [
    {
     "name": "stdout",
     "output_type": "stream",
     "text": [
      "빅데이터빅데이터빅데이터\n"
     ]
    }
   ],
   "source": [
    "print(a * 3)"
   ]
  },
  {
   "cell_type": "markdown",
   "id": "da4abf65",
   "metadata": {},
   "source": [
    "## 4. 문자열의 문자 하나 씩 꺼내기 "
   ]
  },
  {
   "cell_type": "code",
   "execution_count": 5,
   "id": "b73afbb9",
   "metadata": {},
   "outputs": [
    {
     "name": "stdout",
     "output_type": "stream",
     "text": [
      "빅\n",
      "데\n",
      "이\n",
      "터\n"
     ]
    }
   ],
   "source": [
    "print(a[0])\n",
    "print(a[1])\n",
    "print(a[2])\n",
    "print(a[3])"
   ]
  },
  {
   "cell_type": "markdown",
   "id": "57e99593",
   "metadata": {},
   "source": [
    "## 5. 문자열 슬라이싱 [이상 : 미만 : 간격]"
   ]
  },
  {
   "cell_type": "code",
   "execution_count": 6,
   "id": "265423dd",
   "metadata": {},
   "outputs": [
    {
     "name": "stdout",
     "output_type": "stream",
     "text": [
      "빅데이터\n"
     ]
    }
   ],
   "source": [
    "print(a[0:4])"
   ]
  },
  {
   "cell_type": "markdown",
   "id": "88ba0849",
   "metadata": {},
   "source": [
    "## 6. 형변환 (문자열)"
   ]
  },
  {
   "cell_type": "code",
   "execution_count": 23,
   "id": "2c41a7f0",
   "metadata": {},
   "outputs": [
    {
     "data": {
      "text/plain": [
       "'2022'"
      ]
     },
     "execution_count": 23,
     "metadata": {},
     "output_type": "execute_result"
    }
   ],
   "source": [
    "year = 2022\n",
    "string = str(year)\n",
    "string"
   ]
  },
  {
   "cell_type": "markdown",
   "id": "7564eee9",
   "metadata": {},
   "source": [
    "# 문자열 내장 함수\n",
    "1. 문자의  개수 ```.count()``` \n",
    "2. 문자의 인덱스 위치 ```.find()```\n",
    "3. 문자열 삽입 ```.join()```\n",
    "4. 대문자를 소문자로 ```.lower()```, 소문자를 대문자로 ```.upper()```\n",
    "5. 공백 지우기 ```.strip()```, ```.lstrip()```, ```.rstrip()```\n",
    "6. 문자열 바꾸기 ```.replace('변경 전', '변경 후')```\n",
    "7. 문자열 나누기 ```.split()```"
   ]
  },
  {
   "cell_type": "code",
   "execution_count": 35,
   "id": "4d76d245",
   "metadata": {},
   "outputs": [
    {
     "data": {
      "text/plain": [
       "2"
      ]
     },
     "execution_count": 35,
     "metadata": {},
     "output_type": "execute_result"
    }
   ],
   "source": [
    "# .count()\n",
    "a = '아이스아메리카노'\n",
    "a.count('아')"
   ]
  },
  {
   "cell_type": "code",
   "execution_count": 43,
   "id": "75810a59",
   "metadata": {},
   "outputs": [
    {
     "name": "stdout",
     "output_type": "stream",
     "text": [
      "0\n",
      "4\n",
      "-1\n"
     ]
    }
   ],
   "source": [
    "# .find()\n",
    "print(a.find('아'))\n",
    "print(a.find('메'))\n",
    "print(a.find('다')) # 존재하지 않는 경우 -1 반환"
   ]
  },
  {
   "cell_type": "code",
   "execution_count": 49,
   "id": "0404f2f7",
   "metadata": {},
   "outputs": [
    {
     "name": "stdout",
     "output_type": "stream",
     "text": [
      "2-0-2-2\n",
      "안*녕*하*세*요\n",
      "안!녕!하!세!요\n"
     ]
    }
   ],
   "source": [
    "# 문자열 사이에 삽입하고 싶은 것을 '' 안에 넣는다\n",
    "print('-'.join('2022'))\n",
    "\n",
    "# 리스트\n",
    "print('*'.join(['안', '녕', '하', '세', '요']))\n",
    "\n",
    "# 튜플\n",
    "print('!'.join(('안', '녕', '하', '세', '요')))"
   ]
  },
  {
   "cell_type": "code",
   "execution_count": 55,
   "id": "b0d7925a",
   "metadata": {},
   "outputs": [
    {
     "name": "stdout",
     "output_type": "stream",
     "text": [
      "soneunsil\n",
      "SONEUNSIL\n"
     ]
    }
   ],
   "source": [
    "# 대소문자 변경\n",
    "a = 'SONEUNSIL'\n",
    "print(a.lower())\n",
    "\n",
    "a = \"soneunsil\"\n",
    "print(a.upper())"
   ]
  },
  {
   "cell_type": "code",
   "execution_count": 64,
   "id": "0bb33730",
   "metadata": {},
   "outputs": [
    {
     "name": "stdout",
     "output_type": "stream",
     "text": [
      "2022\n",
      "2022   \n",
      "   2022\n"
     ]
    }
   ],
   "source": [
    "# 공백 지우기\n",
    "\n",
    "a = '   2022   '\n",
    "print(a.strip()) # 양쪽\n",
    "print(a.lstrip()) # 왼쪽\n",
    "print(a.rstrip()) # 오른쪽"
   ]
  },
  {
   "cell_type": "code",
   "execution_count": 65,
   "id": "06b9b0ae",
   "metadata": {},
   "outputs": [
    {
     "data": {
      "text/plain": [
       "'저는 녹차를 싫어합니다.'"
      ]
     },
     "execution_count": 65,
     "metadata": {},
     "output_type": "execute_result"
    }
   ],
   "source": [
    "# 문자열 바꾸기\n",
    "a = '저는 녹차를 좋아합니다.'\n",
    "a.replace('좋아', '싫어')"
   ]
  },
  {
   "cell_type": "code",
   "execution_count": 72,
   "id": "be30ac93",
   "metadata": {},
   "outputs": [
    {
     "name": "stdout",
     "output_type": "stream",
     "text": [
      "['파이썬', '기초', '공부하기']\n",
      "['파이썬', '기초', '공부하기']\n"
     ]
    }
   ],
   "source": [
    "# 문자열 나누기\n",
    "a = '파이썬 기초 공부하기'\n",
    "print(a.split()) # 공백을 기준으로 문자열을 나눠 리스트로 만들어줌\n",
    "\n",
    "b = '파이썬-기초-공부하기'\n",
    "print(b.split('-')) # 문자열 사이에 있는 특정 문자를 지정해 나눌 수도 있음"
   ]
  }
 ],
 "metadata": {
  "kernelspec": {
   "display_name": "Python 3 (ipykernel)",
   "language": "python",
   "name": "python3"
  },
  "language_info": {
   "codemirror_mode": {
    "name": "ipython",
    "version": 3
   },
   "file_extension": ".py",
   "mimetype": "text/x-python",
   "name": "python",
   "nbconvert_exporter": "python",
   "pygments_lexer": "ipython3",
   "version": "3.9.12"
  }
 },
 "nbformat": 4,
 "nbformat_minor": 5
}
