{
 "cells": [
  {
   "cell_type": "markdown",
   "id": "543541be",
   "metadata": {},
   "source": [
    "# 모듈\n",
    "- ```import``` 모듈 전체\n",
    "- ```from 모듈 import 이름``` 모듈 내 필요한 것만"
   ]
  },
  {
   "cell_type": "markdown",
   "id": "3b5f23d9",
   "metadata": {},
   "source": [
    "## import : 모듈 전체\n",
    "모듈 내 변수를 사용하려면 ```모듈.변수``` 형식으로 써야함"
   ]
  },
  {
   "cell_type": "code",
   "execution_count": 21,
   "id": "c8d358ab",
   "metadata": {},
   "outputs": [],
   "source": [
    "import tkinter\n",
    "tkinter.widget = tkinter.Label(None, text='Hello World!')\n",
    "tkinter.widget.pack()"
   ]
  },
  {
   "cell_type": "markdown",
   "id": "bcdb3468",
   "metadata": {},
   "source": [
    "## from 모듈 import 이름 : 모듈의 일부분\n",
    "- **주의!** 모듈 내에서 사용하는 예약어를 변수명으로 사용하면 해당 변수가 모듈의 기능으로 바뀜"
   ]
  },
  {
   "cell_type": "code",
   "execution_count": 5,
   "id": "b6829463",
   "metadata": {},
   "outputs": [
    {
     "name": "stdout",
     "output_type": "stream",
     "text": [
      "모듈 임포트 전 Label:  This is a Label\n",
      "모듈 임포트 후 Label:  <class 'tkinter.Label'>\n"
     ]
    }
   ],
   "source": [
    "Label = 'This is a Label'\n",
    "print(\"모듈 임포트 전 Label: \", Label)\n",
    "from tkinter import *\n",
    "print(\"모듈 임포트 후 Label: \", Label)\n"
   ]
  },
  {
   "cell_type": "markdown",
   "id": "f83cec0e",
   "metadata": {},
   "source": [
    "### 모듈 삭제\n",
    "```del 모듈```"
   ]
  },
  {
   "cell_type": "code",
   "execution_count": 19,
   "id": "11e1b278",
   "metadata": {},
   "outputs": [],
   "source": [
    "del tkinter"
   ]
  },
  {
   "cell_type": "markdown",
   "id": "7854eb5f",
   "metadata": {},
   "source": [
    "### 모듈 다시 로드\n",
    "한 번 임포트했던 모듈을 다시 불러올 때<br>\n",
    "```reload(모듈)```"
   ]
  },
  {
   "cell_type": "code",
   "execution_count": 22,
   "id": "1b01028d",
   "metadata": {},
   "outputs": [
    {
     "data": {
      "text/plain": [
       "<module 'tkinter' from 'C:\\\\Users\\\\EunsilSon\\\\anaconda3\\\\lib\\\\tkinter\\\\__init__.py'>"
      ]
     },
     "execution_count": 22,
     "metadata": {},
     "output_type": "execute_result"
    }
   ],
   "source": [
    "from importlib import reload\n",
    "reload(tkinter)"
   ]
  },
  {
   "cell_type": "markdown",
   "id": "3c6c6ddc",
   "metadata": {},
   "source": [
    "## 랜덤 모듈\n",
    "난수 발생"
   ]
  },
  {
   "cell_type": "code",
   "execution_count": 27,
   "id": "c38ee78b",
   "metadata": {},
   "outputs": [
    {
     "data": {
      "text/plain": [
       "0.26369550243679396"
      ]
     },
     "execution_count": 27,
     "metadata": {},
     "output_type": "execute_result"
    }
   ],
   "source": [
    "import random\n",
    "random.random()"
   ]
  },
  {
   "cell_type": "code",
   "execution_count": 29,
   "id": "c9d00c6b",
   "metadata": {},
   "outputs": [
    {
     "data": {
      "text/plain": [
       "5"
      ]
     },
     "execution_count": 29,
     "metadata": {},
     "output_type": "execute_result"
    }
   ],
   "source": [
    "# 특정 숫자 범위 내의 난수 (이상, 미만)\n",
    "random.randrange(1, 7)"
   ]
  },
  {
   "cell_type": "code",
   "execution_count": 31,
   "id": "3fa94134",
   "metadata": {},
   "outputs": [
    {
     "data": {
      "text/plain": [
       "['c', 'b', 'd', 'a', 'e']"
      ]
     },
     "execution_count": 31,
     "metadata": {},
     "output_type": "execute_result"
    }
   ],
   "source": [
    "# 시퀀스 섞기\n",
    "alphabet = ['a', 'b', 'c','d', 'e']\n",
    "random.shuffle(alphabet)\n",
    "alphabet"
   ]
  },
  {
   "cell_type": "code",
   "execution_count": 35,
   "id": "3a3ecc32",
   "metadata": {},
   "outputs": [
    {
     "data": {
      "text/plain": [
       "'d'"
      ]
     },
     "execution_count": 35,
     "metadata": {},
     "output_type": "execute_result"
    }
   ],
   "source": [
    "# 아무 데이터 추출\n",
    "random.choice(alphabet)"
   ]
  }
 ],
 "metadata": {
  "kernelspec": {
   "display_name": "Python 3 (ipykernel)",
   "language": "python",
   "name": "python3"
  },
  "language_info": {
   "codemirror_mode": {
    "name": "ipython",
    "version": 3
   },
   "file_extension": ".py",
   "mimetype": "text/x-python",
   "name": "python",
   "nbconvert_exporter": "python",
   "pygments_lexer": "ipython3",
   "version": "3.9.12"
  }
 },
 "nbformat": 4,
 "nbformat_minor": 5
}
