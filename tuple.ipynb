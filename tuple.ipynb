{
 "cells": [
  {
   "cell_type": "markdown",
   "id": "42620587",
   "metadata": {},
   "source": [
    "# 튜플\n",
    "- () 소괄호\n",
    "- 값 변경 불가 → 정렬 불가능\n",
    "- 필요한 메모리가 더 적음\n",
    "- 속도 빠름\n",
    "\n",
    "### 리스트와 동일한 연산\n",
    "- 인덱싱\n",
    "- 슬라이싱\n",
    "- 더하기\n",
    "- ```.index()``` 값의 위치 반환 \n",
    "- ```.count()``` 값의 개수"
   ]
  },
  {
   "cell_type": "markdown",
   "id": "3b6d45d6",
   "metadata": {},
   "source": [
    "### 튜플 사용법"
   ]
  },
  {
   "cell_type": "code",
   "execution_count": 2,
   "id": "5af9eb32",
   "metadata": {},
   "outputs": [],
   "source": [
    "t1 = () # 빈 튜플\n",
    "t2 = (1, ) # 1개의 데이터가 들어있는 튜플 -> 주의! 튜플이 데이터를 1개만 가질때에는 뒤에 콤마를 붙여야함\n",
    "t3 = (1, 2, 3) # 숫자형 데이터가 들어있는 튜플\n",
    "t4 = 1, 2, 3 # 소괄호를 생략해도 튜플로 만들어짐\n",
    "t5 = ('가', '나', '다') # 문자열 튜플\n",
    "t6 = (1, '가', 2, '나') # 숫자, 문자열 혼합 튜플\n",
    "t7 = (1, 2, (3, 4)) # 튜플 안에 또 다른 튜플"
   ]
  },
  {
   "cell_type": "markdown",
   "id": "17d3e0c8",
   "metadata": {},
   "source": [
    "### 튜플 길이 구하기 ```.len(튜플)```"
   ]
  },
  {
   "cell_type": "code",
   "execution_count": 4,
   "id": "f52c65f2",
   "metadata": {},
   "outputs": [
    {
     "data": {
      "text/plain": [
       "4"
      ]
     },
     "execution_count": 4,
     "metadata": {},
     "output_type": "execute_result"
    }
   ],
   "source": [
    "t1 = (1, 2, '가', '나')\n",
    "len(t1)"
   ]
  },
  {
   "cell_type": "markdown",
   "id": "5758618b",
   "metadata": {},
   "source": [
    "### 튜플을 리스트로 변환 ```list((튜플))```"
   ]
  },
  {
   "cell_type": "code",
   "execution_count": 10,
   "id": "e62cc449",
   "metadata": {},
   "outputs": [
    {
     "name": "stdout",
     "output_type": "stream",
     "text": [
      "<class 'tuple'>\n"
     ]
    },
    {
     "data": {
      "text/plain": [
       "['apple', 'banana', 'melon']"
      ]
     },
     "execution_count": 10,
     "metadata": {},
     "output_type": "execute_result"
    }
   ],
   "source": [
    "fruit = ('apple', 'banana', 'melon')\n",
    "print(type(fruit))\n",
    "\n",
    "list((fruit))"
   ]
  },
  {
   "cell_type": "markdown",
   "id": "2f854522",
   "metadata": {},
   "source": [
    "### 리스트를 튜플로 변환 ```tuple((리스트))```"
   ]
  },
  {
   "cell_type": "code",
   "execution_count": 11,
   "id": "4f272721",
   "metadata": {},
   "outputs": [
    {
     "data": {
      "text/plain": [
       "('apple', 'banana', 'melon')"
      ]
     },
     "execution_count": 11,
     "metadata": {},
     "output_type": "execute_result"
    }
   ],
   "source": [
    "tuple((fruit))"
   ]
  }
 ],
 "metadata": {
  "kernelspec": {
   "display_name": "Python 3 (ipykernel)",
   "language": "python",
   "name": "python3"
  },
  "language_info": {
   "codemirror_mode": {
    "name": "ipython",
    "version": 3
   },
   "file_extension": ".py",
   "mimetype": "text/x-python",
   "name": "python",
   "nbconvert_exporter": "python",
   "pygments_lexer": "ipython3",
   "version": "3.9.12"
  }
 },
 "nbformat": 4,
 "nbformat_minor": 5
}
