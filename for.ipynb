{
 "cells": [
  {
   "cell_type": "markdown",
   "id": "7bc2020b",
   "metadata": {},
   "source": [
    "# for\n",
    "- 구조\n",
    "```\n",
    "for 변수 in 문자열/리스트/튜플 :\n",
    "        수행할 코드     \n",
    "```"
   ]
  },
  {
   "cell_type": "markdown",
   "id": "8b66574f",
   "metadata": {},
   "source": [
    "## 1. for 문 활용"
   ]
  },
  {
   "cell_type": "code",
   "execution_count": 1,
   "id": "774a5683",
   "metadata": {},
   "outputs": [
    {
     "data": {
      "text/plain": [
       "['김씨', '이씨', '박씨']"
      ]
     },
     "execution_count": 1,
     "metadata": {},
     "output_type": "execute_result"
    }
   ],
   "source": [
    "people = ['김', '이', '박']\n",
    "people = [i + '씨' for i in people]\n",
    "people"
   ]
  },
  {
   "cell_type": "code",
   "execution_count": 3,
   "id": "f905a6f3",
   "metadata": {},
   "outputs": [
    {
     "name": "stdout",
     "output_type": "stream",
     "text": [
      "1번 학생은 불합격입니다.\n",
      "2번 학생은 합격입니다.\n",
      "3번 학생은 합격입니다.\n"
     ]
    }
   ],
   "source": [
    "students = [75, 80, 93]\n",
    "number = 0\n",
    "for student in students:\n",
    "    number = number + 1\n",
    "    if student >= 80:\n",
    "        print('%d번 학생은 합격입니다.' %number)\n",
    "    else :\n",
    "        print('%d번 학생은 불합격입니다.' %number)"
   ]
  },
  {
   "cell_type": "markdown",
   "id": "2cb5f042",
   "metadata": {},
   "source": [
    "### 문자열을 길이로 변환"
   ]
  },
  {
   "cell_type": "code",
   "execution_count": 5,
   "id": "054bc1ab",
   "metadata": {},
   "outputs": [
    {
     "data": {
      "text/plain": [
       "[2, 3, 4]"
      ]
     },
     "execution_count": 5,
     "metadata": {},
     "output_type": "execute_result"
    }
   ],
   "source": [
    "fruit = ['사과', '바나나', '블루베리']\n",
    "fruit = [len(i) for i in fruit] # fruit에 있는 데이터를 하나 씩 꺼내 길이로 변환\n",
    "fruit"
   ]
  },
  {
   "cell_type": "markdown",
   "id": "c5ffbcc9",
   "metadata": {},
   "source": [
    "### 소문자를 대문자로 변환"
   ]
  },
  {
   "cell_type": "code",
   "execution_count": 7,
   "id": "f62cc100",
   "metadata": {},
   "outputs": [
    {
     "data": {
      "text/plain": [
       "['APPLE', 'BANANA', 'BLUEBERRY']"
      ]
     },
     "execution_count": 7,
     "metadata": {},
     "output_type": "execute_result"
    }
   ],
   "source": [
    "fruit = ['apple', 'banana', 'blueberry']\n",
    "fruit = [i.upper() for i in fruit]\n",
    "fruit"
   ]
  },
  {
   "cell_type": "markdown",
   "id": "192c3bee",
   "metadata": {},
   "source": [
    "## 2. continue"
   ]
  },
  {
   "cell_type": "code",
   "execution_count": 14,
   "id": "cb6c44a7",
   "metadata": {},
   "outputs": [
    {
     "name": "stdout",
     "output_type": "stream",
     "text": [
      "2\n",
      "4\n",
      "6\n",
      "8\n",
      "10\n"
     ]
    }
   ],
   "source": [
    "num = [1, 2, 3, 4, 5, 6, 7, 8, 9, 10]\n",
    "for i in num:\n",
    "    if (i % 2 == 0) :\n",
    "        print(i)\n",
    "    else :\n",
    "        continue"
   ]
  },
  {
   "cell_type": "markdown",
   "id": "3a7cfd4e",
   "metadata": {},
   "source": [
    "## 3. range 함수\n",
    "```range(이상, 미만)```"
   ]
  },
  {
   "cell_type": "code",
   "execution_count": 15,
   "id": "af6796a8",
   "metadata": {},
   "outputs": [
    {
     "name": "stdout",
     "output_type": "stream",
     "text": [
      "1\n",
      "2\n",
      "3\n",
      "4\n",
      "5\n",
      "6\n",
      "7\n",
      "8\n",
      "9\n"
     ]
    }
   ],
   "source": [
    "for i in range(1, 10) :\n",
    "    print(i)"
   ]
  },
  {
   "cell_type": "code",
   "execution_count": 16,
   "id": "9d759971",
   "metadata": {},
   "outputs": [
    {
     "name": "stdout",
     "output_type": "stream",
     "text": [
      "9\n"
     ]
    }
   ],
   "source": [
    "sum = 0\n",
    "\n",
    "for i in range(1, 10) :\n",
    "    sum = sum + 1\n",
    "\n",
    "print(sum)"
   ]
  },
  {
   "cell_type": "markdown",
   "id": "98823f26",
   "metadata": {},
   "source": [
    "## 중첩 For문 - 구구단"
   ]
  },
  {
   "cell_type": "code",
   "execution_count": 19,
   "id": "d8144835",
   "metadata": {},
   "outputs": [
    {
     "name": "stdout",
     "output_type": "stream",
     "text": [
      "2 * 1 = 2\n",
      "2 * 2 = 4\n",
      "2 * 3 = 6\n",
      "2 * 4 = 8\n",
      "2 * 5 = 10\n",
      "2 * 6 = 12\n",
      "2 * 7 = 14\n",
      "2 * 8 = 16\n",
      "2 * 9 = 18\n",
      "3 * 1 = 3\n",
      "3 * 2 = 6\n",
      "3 * 3 = 9\n",
      "3 * 4 = 12\n",
      "3 * 5 = 15\n",
      "3 * 6 = 18\n",
      "3 * 7 = 21\n",
      "3 * 8 = 24\n",
      "3 * 9 = 27\n",
      "4 * 1 = 4\n",
      "4 * 2 = 8\n",
      "4 * 3 = 12\n",
      "4 * 4 = 16\n",
      "4 * 5 = 20\n",
      "4 * 6 = 24\n",
      "4 * 7 = 28\n",
      "4 * 8 = 32\n",
      "4 * 9 = 36\n",
      "5 * 1 = 5\n",
      "5 * 2 = 10\n",
      "5 * 3 = 15\n",
      "5 * 4 = 20\n",
      "5 * 5 = 25\n",
      "5 * 6 = 30\n",
      "5 * 7 = 35\n",
      "5 * 8 = 40\n",
      "5 * 9 = 45\n",
      "6 * 1 = 6\n",
      "6 * 2 = 12\n",
      "6 * 3 = 18\n",
      "6 * 4 = 24\n",
      "6 * 5 = 30\n",
      "6 * 6 = 36\n",
      "6 * 7 = 42\n",
      "6 * 8 = 48\n",
      "6 * 9 = 54\n",
      "7 * 1 = 7\n",
      "7 * 2 = 14\n",
      "7 * 3 = 21\n",
      "7 * 4 = 28\n",
      "7 * 5 = 35\n",
      "7 * 6 = 42\n",
      "7 * 7 = 49\n",
      "7 * 8 = 56\n",
      "7 * 9 = 63\n",
      "8 * 1 = 8\n",
      "8 * 2 = 16\n",
      "8 * 3 = 24\n",
      "8 * 4 = 32\n",
      "8 * 5 = 40\n",
      "8 * 6 = 48\n",
      "8 * 7 = 56\n",
      "8 * 8 = 64\n",
      "8 * 9 = 72\n",
      "9 * 1 = 9\n",
      "9 * 2 = 18\n",
      "9 * 3 = 27\n",
      "9 * 4 = 36\n",
      "9 * 5 = 45\n",
      "9 * 6 = 54\n",
      "9 * 7 = 63\n",
      "9 * 8 = 72\n",
      "9 * 9 = 81\n"
     ]
    }
   ],
   "source": [
    "for i in range (2, 10) :\n",
    "    for j in range (1, 10) :\n",
    "        print(i, \"*\", j, \"=\", (i * j))"
   ]
  },
  {
   "cell_type": "markdown",
   "id": "92fa787b",
   "metadata": {},
   "source": [
    "## 4. 리스트 만들기\n",
    "- 리스트 내포 (List comprehension)"
   ]
  },
  {
   "cell_type": "code",
   "execution_count": 20,
   "id": "8f2b1f54",
   "metadata": {},
   "outputs": [
    {
     "data": {
      "text/plain": [
       "[10, 20, 30]"
      ]
     },
     "execution_count": 20,
     "metadata": {},
     "output_type": "execute_result"
    }
   ],
   "source": [
    "a = [1, 2, 3]\n",
    "box = []\n",
    "\n",
    "for num in a :\n",
    "    box.append(num * 10)\n",
    "\n",
    "box"
   ]
  },
  {
   "cell_type": "code",
   "execution_count": 22,
   "id": "60b6860b",
   "metadata": {},
   "outputs": [
    {
     "data": {
      "text/plain": [
       "[10, 20, 30]"
      ]
     },
     "execution_count": 22,
     "metadata": {},
     "output_type": "execute_result"
    }
   ],
   "source": [
    "# 리스트 내포\n",
    "a = [1, 2, 3]\n",
    "box = [num * 10 for num in a] # 리스트 a에 있는 값들을 num에 하나 씩 담고 num * 10한 값을 box에 담는다\n",
    "box"
   ]
  },
  {
   "cell_type": "code",
   "execution_count": 23,
   "id": "ce615930",
   "metadata": {},
   "outputs": [
    {
     "data": {
      "text/plain": [
       "[1, 2, 3, 4, 5]"
      ]
     },
     "execution_count": 23,
     "metadata": {},
     "output_type": "execute_result"
    }
   ],
   "source": [
    "a = [1, 2, 3, 4, 5, 6, 7, 8, 9, 10]\n",
    "box = [num // 2 for num in a if num % 2 == 0]\n",
    "box"
   ]
  }
 ],
 "metadata": {
  "kernelspec": {
   "display_name": "Python 3 (ipykernel)",
   "language": "python",
   "name": "python3"
  },
  "language_info": {
   "codemirror_mode": {
    "name": "ipython",
    "version": 3
   },
   "file_extension": ".py",
   "mimetype": "text/x-python",
   "name": "python",
   "nbconvert_exporter": "python",
   "pygments_lexer": "ipython3",
   "version": "3.9.12"
  }
 },
 "nbformat": 4,
 "nbformat_minor": 5
}
