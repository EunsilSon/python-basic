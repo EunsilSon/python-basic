{
 "cells": [
  {
   "cell_type": "markdown",
   "id": "aaed2ffd",
   "metadata": {},
   "source": [
    "# 세트 (set)\n",
    "- 여러 개의 데이터를 **집합 형태**로 넣을 수 있음\n",
    "- 데이터 중복 불가\n",
    "- 순서 없음 → 인덱싱, 슬라이싱 불가"
   ]
  },
  {
   "cell_type": "markdown",
   "id": "de4529fd",
   "metadata": {},
   "source": [
    "## 1. 선언 ```set()```"
   ]
  },
  {
   "cell_type": "code",
   "execution_count": 5,
   "id": "564d8fe3",
   "metadata": {},
   "outputs": [
    {
     "name": "stdout",
     "output_type": "stream",
     "text": [
      "set()\n",
      "<class 'set'>\n",
      "{1, 2, 3}\n",
      "<class 'set'>\n"
     ]
    }
   ],
   "source": [
    "# 빈 세트\n",
    "s1 = set()\n",
    "print(s1)\n",
    "print(type(s1))\n",
    "\n",
    "\n",
    "# 선언 및 초기화\n",
    "s1 = set([1, 2, 3]) # 리스트가 들어있는 세트\n",
    "print(s1)\n",
    "print(type(s1))"
   ]
  },
  {
   "cell_type": "markdown",
   "id": "fa29c1d4",
   "metadata": {},
   "source": [
    "#### 활용 : 리스트의 중복 데이터 제거하기"
   ]
  },
  {
   "cell_type": "code",
   "execution_count": 9,
   "id": "79873e96",
   "metadata": {},
   "outputs": [
    {
     "name": "stdout",
     "output_type": "stream",
     "text": [
      "{1, 2, 3, 4, 5}\n",
      "[1, 2, 3, 4, 5]\n"
     ]
    }
   ],
   "source": [
    "s1 = set([1,1, 1, 1, 2, 3, 3, 4, 4, 5,]) # 리스트를 set에 넣으면서 중복이 제거됨\n",
    "print(s1) # 세트는 중괄호\n",
    "print(list(s1)) # 리스트는 대괄호"
   ]
  },
  {
   "cell_type": "code",
   "execution_count": 11,
   "id": "c14f0cca",
   "metadata": {},
   "outputs": [
    {
     "data": {
      "text/plain": [
       "{1, 2, 3}"
      ]
     },
     "execution_count": 11,
     "metadata": {},
     "output_type": "execute_result"
    }
   ],
   "source": [
    "s1 = {1, 2, 3} # 중괄호\n",
    "s1"
   ]
  },
  {
   "cell_type": "markdown",
   "id": "99cf5741",
   "metadata": {},
   "source": [
    "## 2. 연산 (교집합, 합집합, 차집합)"
   ]
  },
  {
   "cell_type": "markdown",
   "id": "f23fa862",
   "metadata": {},
   "source": [
    "### 1) 교집합 : ```A & B```, ```A.intersection(B)```"
   ]
  },
  {
   "cell_type": "code",
   "execution_count": 12,
   "id": "459ee973",
   "metadata": {},
   "outputs": [],
   "source": [
    "s1 = {1, 2, 3, 4, 5, 6, 7, 8, 9, 10}\n",
    "s2 = {1, 3, 5, 7, 9}"
   ]
  },
  {
   "cell_type": "code",
   "execution_count": 13,
   "id": "7cea7384",
   "metadata": {},
   "outputs": [
    {
     "data": {
      "text/plain": [
       "{1, 3, 5, 7, 9}"
      ]
     },
     "execution_count": 13,
     "metadata": {},
     "output_type": "execute_result"
    }
   ],
   "source": [
    "s1 & s2 "
   ]
  },
  {
   "cell_type": "code",
   "execution_count": 14,
   "id": "39655ea9",
   "metadata": {},
   "outputs": [
    {
     "data": {
      "text/plain": [
       "{1, 3, 5, 7, 9}"
      ]
     },
     "execution_count": 14,
     "metadata": {},
     "output_type": "execute_result"
    }
   ],
   "source": [
    "s1.intersection(s2)"
   ]
  },
  {
   "cell_type": "markdown",
   "id": "ac089913",
   "metadata": {},
   "source": [
    "### 교집합을 뺀 나머지 : ```A ^ B```"
   ]
  },
  {
   "cell_type": "code",
   "execution_count": 22,
   "id": "4948ce2d",
   "metadata": {},
   "outputs": [],
   "source": [
    "s1 = {1, 2, 3, 4, 5, 6, 7, 8, 9, 10}\n",
    "s2 = {1, 3, 5, 7, 9}"
   ]
  },
  {
   "cell_type": "code",
   "execution_count": 23,
   "id": "cd26e6a5",
   "metadata": {},
   "outputs": [
    {
     "data": {
      "text/plain": [
       "{2, 4, 6, 8, 10}"
      ]
     },
     "execution_count": 23,
     "metadata": {},
     "output_type": "execute_result"
    }
   ],
   "source": [
    "s1 ^ s2"
   ]
  },
  {
   "cell_type": "markdown",
   "id": "30735264",
   "metadata": {},
   "source": [
    "### 2) 합집합 : ```A | B```, ```A.union(B)```"
   ]
  },
  {
   "cell_type": "code",
   "execution_count": 16,
   "id": "4aa8b8e4",
   "metadata": {},
   "outputs": [],
   "source": [
    "s1 = {1, 2, 3, 4, 5, 6, 7, 8, 9, 10}\n",
    "s2 = {1, 3, 5, 7, 9}"
   ]
  },
  {
   "cell_type": "code",
   "execution_count": 17,
   "id": "60534f49",
   "metadata": {},
   "outputs": [
    {
     "data": {
      "text/plain": [
       "{1, 2, 3, 4, 5, 6, 7, 8, 9, 10}"
      ]
     },
     "execution_count": 17,
     "metadata": {},
     "output_type": "execute_result"
    }
   ],
   "source": [
    "s1 | s2"
   ]
  },
  {
   "cell_type": "code",
   "execution_count": 18,
   "id": "d5c927c4",
   "metadata": {},
   "outputs": [
    {
     "data": {
      "text/plain": [
       "{1, 2, 3, 4, 5, 6, 7, 8, 9, 10}"
      ]
     },
     "execution_count": 18,
     "metadata": {},
     "output_type": "execute_result"
    }
   ],
   "source": [
    "s1.union(s2)"
   ]
  },
  {
   "cell_type": "markdown",
   "id": "0d5bf7c1",
   "metadata": {},
   "source": [
    "### 3) 차집합 : ```A - B```, ```A.difference(B)```"
   ]
  },
  {
   "cell_type": "code",
   "execution_count": 19,
   "id": "a24ef65c",
   "metadata": {},
   "outputs": [],
   "source": [
    "s1 = {1, 2, 3, 4, 5, 6, 7, 8, 9, 10}\n",
    "s2 = {1, 3, 5, 7, 9}"
   ]
  },
  {
   "cell_type": "code",
   "execution_count": 20,
   "id": "4f03a9d2",
   "metadata": {},
   "outputs": [
    {
     "data": {
      "text/plain": [
       "{2, 4, 6, 8, 10}"
      ]
     },
     "execution_count": 20,
     "metadata": {},
     "output_type": "execute_result"
    }
   ],
   "source": [
    "s1 - s2"
   ]
  },
  {
   "cell_type": "code",
   "execution_count": 21,
   "id": "5b782251",
   "metadata": {},
   "outputs": [
    {
     "data": {
      "text/plain": [
       "{2, 4, 6, 8, 10}"
      ]
     },
     "execution_count": 21,
     "metadata": {},
     "output_type": "execute_result"
    }
   ],
   "source": [
    "s1.difference(s2)"
   ]
  },
  {
   "cell_type": "markdown",
   "id": "35ea7292",
   "metadata": {},
   "source": [
    "## 3. 세트 관련 함수\n",
    "- 값 1개 추가 ```.add()```\n",
    "- 값 여러 개 추가 ```.update()```\n",
    "- 특정 값 제거 ```.remove()```"
   ]
  },
  {
   "cell_type": "code",
   "execution_count": 25,
   "id": "877ace3a",
   "metadata": {},
   "outputs": [
    {
     "data": {
      "text/plain": [
       "{1, 2, 3, 4}"
      ]
     },
     "execution_count": 25,
     "metadata": {},
     "output_type": "execute_result"
    }
   ],
   "source": [
    "s1 = {1, 2, 3}\n",
    "s1.add(4) # 추가\n",
    "s1"
   ]
  },
  {
   "cell_type": "code",
   "execution_count": 26,
   "id": "c243f0ee",
   "metadata": {},
   "outputs": [
    {
     "data": {
      "text/plain": [
       "{1, 2, 3, 4, 5, 6, 7}"
      ]
     },
     "execution_count": 26,
     "metadata": {},
     "output_type": "execute_result"
    }
   ],
   "source": [
    "s1 = {1, 2, 3}\n",
    "s1.update([4, 5, 6, 7]) # 여러 개 추가\n",
    "s1"
   ]
  },
  {
   "cell_type": "code",
   "execution_count": 27,
   "id": "7e61c4c1",
   "metadata": {},
   "outputs": [
    {
     "data": {
      "text/plain": [
       "{2, 3}"
      ]
     },
     "execution_count": 27,
     "metadata": {},
     "output_type": "execute_result"
    }
   ],
   "source": [
    "s1 = {1, 2, 3}\n",
    "s1.remove(1) # 특정 값 제거\n",
    "s1"
   ]
  }
 ],
 "metadata": {
  "kernelspec": {
   "display_name": "Python 3 (ipykernel)",
   "language": "python",
   "name": "python3"
  },
  "language_info": {
   "codemirror_mode": {
    "name": "ipython",
    "version": 3
   },
   "file_extension": ".py",
   "mimetype": "text/x-python",
   "name": "python",
   "nbconvert_exporter": "python",
   "pygments_lexer": "ipython3",
   "version": "3.9.12"
  }
 },
 "nbformat": 4,
 "nbformat_minor": 5
}
