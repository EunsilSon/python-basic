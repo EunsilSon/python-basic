{
 "cells": [
  {
   "cell_type": "markdown",
   "id": "1ba28bf9",
   "metadata": {},
   "source": [
    "# 텍스트 파일\n",
    "프로그램과 데이터를 분리해 관리할 수 있다"
   ]
  },
  {
   "cell_type": "markdown",
   "id": "f9049b29",
   "metadata": {},
   "source": [
    "## 1. 불러오기"
   ]
  },
  {
   "cell_type": "code",
   "execution_count": 1,
   "id": "8d146ef9",
   "metadata": {},
   "outputs": [
    {
     "data": {
      "text/plain": [
       "'hi\\nhello\\npython'"
      ]
     },
     "execution_count": 1,
     "metadata": {},
     "output_type": "execute_result"
    }
   ],
   "source": [
    "f = open('textfile.txt') # 파일 경로\n",
    "f.read() # 파일 내용 그대로 출력"
   ]
  },
  {
   "cell_type": "code",
   "execution_count": 2,
   "id": "f2f7927e",
   "metadata": {},
   "outputs": [
    {
     "name": "stdout",
     "output_type": "stream",
     "text": [
      "hi\n",
      "hello\n",
      "python\n"
     ]
    }
   ],
   "source": [
    "f = open('textfile.txt')\n",
    "buffer = f.read()\n",
    "print(buffer) # 개행되어 출력"
   ]
  },
  {
   "cell_type": "markdown",
   "id": "7d4fef67",
   "metadata": {},
   "source": [
    "## 2. 작성\n",
    "```open('파일 경로', '모드')```\n",
    "#### 모드\n",
    "- w : 기존 내용 삭제 후 새 내용 작성\n",
    "- a+ : 기존 내용에 새 내용 추가"
   ]
  },
  {
   "cell_type": "code",
   "execution_count": 11,
   "id": "b8ee665b",
   "metadata": {},
   "outputs": [],
   "source": [
    "f = open('textfile.txt', 'w')\n",
    "f.write('Insert Text1'+'\\n'+'Insert Text2')\n",
    "f.close()"
   ]
  },
  {
   "cell_type": "markdown",
   "id": "e7ad989f",
   "metadata": {},
   "source": [
    "## 3. 한 줄씩 읽기"
   ]
  },
  {
   "cell_type": "code",
   "execution_count": 12,
   "id": "2315c02e",
   "metadata": {},
   "outputs": [
    {
     "data": {
      "text/plain": [
       "'Insert Text1\\n'"
      ]
     },
     "execution_count": 12,
     "metadata": {},
     "output_type": "execute_result"
    }
   ],
   "source": [
    "f = open('textfile.txt')\n",
    "f.readline()"
   ]
  },
  {
   "cell_type": "code",
   "execution_count": 13,
   "id": "593d0515",
   "metadata": {},
   "outputs": [
    {
     "name": "stdout",
     "output_type": "stream",
     "text": [
      "Insert Text1\n",
      "\n",
      "Insert Text2\n",
      "\n",
      "\n",
      "\n"
     ]
    }
   ],
   "source": [
    "f = open('textfile.txt')\n",
    "for x in range(5):\n",
    "    print(f.readline())"
   ]
  },
  {
   "cell_type": "code",
   "execution_count": 15,
   "id": "5309ce88",
   "metadata": {},
   "outputs": [
    {
     "data": {
      "text/plain": [
       "['Insert Text1\\n', 'Insert Text2']"
      ]
     },
     "execution_count": 15,
     "metadata": {},
     "output_type": "execute_result"
    }
   ],
   "source": [
    "f = open('textfile.txt')\n",
    "lines = f.readlines() # 한 줄 씩 리스트의 요소로 추가됨\n",
    "lines[:2] # 인덱싱하여 원하는 만큼 추출 가능"
   ]
  },
  {
   "cell_type": "markdown",
   "id": "924bd09a",
   "metadata": {},
   "source": [
    "## 4. 활용\n",
    "- pickle\n",
    "- glob\n",
    "- os.path"
   ]
  },
  {
   "cell_type": "markdown",
   "id": "68d719fa",
   "metadata": {},
   "source": [
    "### 1) pickle\n",
    "파이썬 코드에서 만들어진 데이터를 파일에 작성"
   ]
  },
  {
   "cell_type": "code",
   "execution_count": 7,
   "id": "3ab7300a",
   "metadata": {},
   "outputs": [
    {
     "data": {
      "text/plain": [
       "True"
      ]
     },
     "execution_count": 7,
     "metadata": {},
     "output_type": "execute_result"
    }
   ],
   "source": [
    "users = {'kim':'3kid9', 'sun80':'393948', 'ljm':'ps90390'}\n",
    "f = open('users', 'wb') # 바이트 형식으로 작성\n",
    "\n",
    "import pickle\n",
    "pickle.dump(users, f) # 리스트 users를 f에 씌운다\n",
    "f.close()\n",
    "\n",
    "import os\n",
    "os.path.exists('users') # 파일이 만들어졌는 지 확인"
   ]
  },
  {
   "cell_type": "code",
   "execution_count": 58,
   "id": "150fa690",
   "metadata": {},
   "outputs": [
    {
     "name": "stdout",
     "output_type": "stream",
     "text": [
      "{'kim': '3kid9', 'sun80': '393948', 'ljm': 'ps90390'}\n"
     ]
    }
   ],
   "source": [
    "f = open('users', 'rb')\n",
    "a = pickle.load(f)\n",
    "print(a)"
   ]
  },
  {
   "cell_type": "markdown",
   "id": "5083ab38",
   "metadata": {},
   "source": [
    "### 2) glob\n",
    "파일 목록 추출"
   ]
  },
  {
   "cell_type": "code",
   "execution_count": 8,
   "id": "b2407b09",
   "metadata": {},
   "outputs": [
    {
     "data": {
      "text/plain": [
       "['korean_national_anthem_1.txt',\n",
       " 'korean_national_anthem_2.txt',\n",
       " 'korean_national_anthem_3.txt',\n",
       " 'korean_national_anthem_4.txt',\n",
       " 'textfile.txt']"
      ]
     },
     "execution_count": 8,
     "metadata": {},
     "output_type": "execute_result"
    }
   ],
   "source": [
    "from glob import glob\n",
    "glob('*.ipynb')\n",
    "glob('*txt')"
   ]
  },
  {
   "cell_type": "markdown",
   "id": "82c9eaf1",
   "metadata": {},
   "source": [
    "### 3) os.path\n",
    "파일 경로 체크"
   ]
  },
  {
   "cell_type": "code",
   "execution_count": 9,
   "id": "e12a04a6",
   "metadata": {},
   "outputs": [
    {
     "name": "stdout",
     "output_type": "stream",
     "text": [
      "korean_national_anthem_1.txt\n",
      "korean_national_anthem_2.txt\n",
      "korean_national_anthem_3.txt\n",
      "korean_national_anthem_4.txt\n",
      "out\n",
      "textfile.ipynb\n",
      "textfile.txt\n",
      "users\n"
     ]
    }
   ],
   "source": [
    "from glob import glob\n",
    "from os.path import isdir\n",
    "\n",
    "for x in glob('*'):\n",
    "    if isdir(x):\n",
    "        print(x, '<DIR>') # 디렉터리일때\n",
    "    else:\n",
    "        print(x)"
   ]
  },
  {
   "cell_type": "markdown",
   "id": "f34d0dd3",
   "metadata": {},
   "source": [
    "### 연습 문제 : 애국가\n",
    "애국가 1절~4절이 저장된 파일 4개를 하나의 파일에 저장하세요."
   ]
  },
  {
   "cell_type": "code",
   "execution_count": 10,
   "id": "5f29858f",
   "metadata": {},
   "outputs": [
    {
     "data": {
      "text/plain": [
       "True"
      ]
     },
     "execution_count": 10,
     "metadata": {},
     "output_type": "execute_result"
    }
   ],
   "source": [
    "num = 1 # 파일 번호\n",
    "out = open('out', 'w', encoding='UTF8') # 최종 파일\n",
    "\n",
    "# 4번 반복\n",
    "for i in range(0, 4):\n",
    "    f = open('korean_national_anthem_' + str(num) +'.txt', encoding='UTF8')\n",
    "    buffer = f.read()\n",
    "    \n",
    "    out.write('\\nkorean_national_anthem_' + str(num) +'.txt\\n-----------------------------------\\n')\n",
    "    out.write(buffer + '\\n')\n",
    "    \n",
    "    num = num + 1\n",
    "\n",
    "out.close()\n",
    "\n",
    "import os\n",
    "os.path.exists('out') # 파일이 만들어졌는 지 확인"
   ]
  }
 ],
 "metadata": {
  "kernelspec": {
   "display_name": "Python 3 (ipykernel)",
   "language": "python",
   "name": "python3"
  },
  "language_info": {
   "codemirror_mode": {
    "name": "ipython",
    "version": 3
   },
   "file_extension": ".py",
   "mimetype": "text/x-python",
   "name": "python",
   "nbconvert_exporter": "python",
   "pygments_lexer": "ipython3",
   "version": "3.9.12"
  }
 },
 "nbformat": 4,
 "nbformat_minor": 5
}
