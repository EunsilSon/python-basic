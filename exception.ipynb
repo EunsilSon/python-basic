{
 "cells": [
  {
   "cell_type": "markdown",
   "id": "99827e0f",
   "metadata": {},
   "source": [
    "# 예외처리 (try ~ except)\n",
    "```\n",
    "try:\n",
    "  처리할 코드\n",
    "exept\n",
    "  에러 발생 시 처리할 코드\n",
    "```"
   ]
  },
  {
   "cell_type": "code",
   "execution_count": 24,
   "id": "dc033661",
   "metadata": {},
   "outputs": [
    {
     "name": "stdout",
     "output_type": "stream",
     "text": [
      "26400.545454545456\n"
     ]
    }
   ],
   "source": [
    "def func(a, b):\n",
    "    try:\n",
    "        if a and b:\n",
    "            return (a * b) + (a / b)\n",
    "        elif a:\n",
    "            return '불능'\n",
    "        else:\n",
    "            return '부정'\n",
    "    except:\n",
    "        return '긍정'\n",
    "\n",
    "print(func(120, 220))"
   ]
  },
  {
   "cell_type": "code",
   "execution_count": null,
   "id": "8662cf54",
   "metadata": {},
   "outputs": [],
   "source": []
  }
 ],
 "metadata": {
  "kernelspec": {
   "display_name": "Python 3 (ipykernel)",
   "language": "python",
   "name": "python3"
  },
  "language_info": {
   "codemirror_mode": {
    "name": "ipython",
    "version": 3
   },
   "file_extension": ".py",
   "mimetype": "text/x-python",
   "name": "python",
   "nbconvert_exporter": "python",
   "pygments_lexer": "ipython3",
   "version": "3.9.12"
  }
 },
 "nbformat": 4,
 "nbformat_minor": 5
}
